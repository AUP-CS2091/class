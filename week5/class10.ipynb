{
 "cells": [
  {
   "cell_type": "code",
   "execution_count": null,
   "metadata": {},
   "outputs": [],
   "source": [
    "from datascience import *\n",
    "import numpy as np\n",
    "%matplotlib inline"
   ]
  },
  {
   "cell_type": "code",
   "execution_count": 86,
   "metadata": {},
   "outputs": [],
   "source": [
    "movies = Table.read_table('https://raw.githubusercontent.com/AUP-CS2091/class/master/week3/top_movies_2017.csv')\n",
    "movies = movies.with_column('Index',np.arange(movies.num_rows)).move_to_start('Index')"
   ]
  },
  {
   "cell_type": "markdown",
   "metadata": {},
   "source": [
    "RGB\n",
    "\n",
    "RG\n",
    "RB\n",
    "GB"
   ]
  },
  {
   "cell_type": "code",
   "execution_count": 85,
   "metadata": {},
   "outputs": [
    {
     "data": {
      "text/plain": [
       "0.16666666666666666"
      ]
     },
     "execution_count": 85,
     "metadata": {},
     "output_type": "execute_result"
    }
   ],
   "source": [
    "1/3 * 1/2"
   ]
  },
  {
   "cell_type": "code",
   "execution_count": 87,
   "metadata": {},
   "outputs": [
    {
     "data": {
      "text/html": [
       "<table border=\"1\" class=\"dataframe\">\n",
       "    <thead>\n",
       "        <tr>\n",
       "            <th>Index</th> <th>Title</th> <th>Studio</th> <th>Gross</th> <th>Gross (Adjusted)</th> <th>Year</th>\n",
       "        </tr>\n",
       "    </thead>\n",
       "    <tbody>\n",
       "        <tr>\n",
       "            <td>0    </td> <td>Gone with the Wind              </td> <td>MGM            </td> <td>198676459</td> <td>1796176700      </td> <td>1939</td>\n",
       "        </tr>\n",
       "        <tr>\n",
       "            <td>1    </td> <td>Star Wars                       </td> <td>Fox            </td> <td>460998007</td> <td>1583483200      </td> <td>1977</td>\n",
       "        </tr>\n",
       "        <tr>\n",
       "            <td>2    </td> <td>The Sound of Music              </td> <td>Fox            </td> <td>158671368</td> <td>1266072700      </td> <td>1965</td>\n",
       "        </tr>\n",
       "        <tr>\n",
       "            <td>3    </td> <td>E.T.: The Extra-Terrestrial     </td> <td>Universal      </td> <td>435110554</td> <td>1261085000      </td> <td>1982</td>\n",
       "        </tr>\n",
       "        <tr>\n",
       "            <td>4    </td> <td>Titanic                         </td> <td>Paramount      </td> <td>658672302</td> <td>1204368000      </td> <td>1997</td>\n",
       "        </tr>\n",
       "        <tr>\n",
       "            <td>5    </td> <td>The Ten Commandments            </td> <td>Paramount      </td> <td>65500000 </td> <td>1164590000      </td> <td>1956</td>\n",
       "        </tr>\n",
       "        <tr>\n",
       "            <td>6    </td> <td>Jaws                            </td> <td>Universal      </td> <td>260000000</td> <td>1138620700      </td> <td>1975</td>\n",
       "        </tr>\n",
       "        <tr>\n",
       "            <td>7    </td> <td>Doctor Zhivago                  </td> <td>MGM            </td> <td>111721910</td> <td>1103564200      </td> <td>1965</td>\n",
       "        </tr>\n",
       "        <tr>\n",
       "            <td>8    </td> <td>The Exorcist                    </td> <td>Warner Brothers</td> <td>232906145</td> <td>983226600       </td> <td>1973</td>\n",
       "        </tr>\n",
       "        <tr>\n",
       "            <td>9    </td> <td>Snow White and the Seven Dwarves</td> <td>Disney         </td> <td>184925486</td> <td>969010000       </td> <td>1937</td>\n",
       "        </tr>\n",
       "    </tbody>\n",
       "</table>\n",
       "<p>... (190 rows omitted)</p>"
      ],
      "text/plain": [
       "Index | Title                            | Studio          | Gross     | Gross (Adjusted) | Year\n",
       "0     | Gone with the Wind               | MGM             | 198676459 | 1796176700       | 1939\n",
       "1     | Star Wars                        | Fox             | 460998007 | 1583483200       | 1977\n",
       "2     | The Sound of Music               | Fox             | 158671368 | 1266072700       | 1965\n",
       "3     | E.T.: The Extra-Terrestrial      | Universal       | 435110554 | 1261085000       | 1982\n",
       "4     | Titanic                          | Paramount       | 658672302 | 1204368000       | 1997\n",
       "5     | The Ten Commandments             | Paramount       | 65500000  | 1164590000       | 1956\n",
       "6     | Jaws                             | Universal       | 260000000 | 1138620700       | 1975\n",
       "7     | Doctor Zhivago                   | MGM             | 111721910 | 1103564200       | 1965\n",
       "8     | The Exorcist                     | Warner Brothers | 232906145 | 983226600        | 1973\n",
       "9     | Snow White and the Seven Dwarves | Disney          | 184925486 | 969010000        | 1937\n",
       "... (190 rows omitted)"
      ]
     },
     "execution_count": 87,
     "metadata": {},
     "output_type": "execute_result"
    }
   ],
   "source": [
    "movies"
   ]
  },
  {
   "cell_type": "code",
   "execution_count": 91,
   "metadata": {},
   "outputs": [
    {
     "data": {
      "text/html": [
       "<table border=\"1\" class=\"dataframe\">\n",
       "    <thead>\n",
       "        <tr>\n",
       "            <th>Index</th> <th>Title</th> <th>Studio</th> <th>Gross</th> <th>Gross (Adjusted)</th> <th>Year</th>\n",
       "        </tr>\n",
       "    </thead>\n",
       "    <tbody>\n",
       "        <tr>\n",
       "            <td>0    </td> <td>Gone with the Wind</td> <td>MGM   </td> <td>198676459</td> <td>1796176700      </td> <td>1939</td>\n",
       "        </tr>\n",
       "    </tbody>\n",
       "</table>"
      ],
      "text/plain": [
       "Index | Title              | Studio | Gross     | Gross (Adjusted) | Year\n",
       "0     | Gone with the Wind | MGM    | 198676459 | 1796176700       | 1939"
      ]
     },
     "execution_count": 91,
     "metadata": {},
     "output_type": "execute_result"
    }
   ],
   "source": [
    "movies.where('Title', are.containing('with the'))"
   ]
  },
  {
   "cell_type": "code",
   "execution_count": 93,
   "metadata": {},
   "outputs": [
    {
     "data": {
      "text/plain": [
       "6"
      ]
     },
     "execution_count": 93,
     "metadata": {},
     "output_type": "execute_result"
    }
   ],
   "source": [
    "first = np.random.choice(np.arange(1,11))\n",
    "first"
   ]
  },
  {
   "cell_type": "code",
   "execution_count": 97,
   "metadata": {},
   "outputs": [
    {
     "data": {
      "text/html": [
       "<table border=\"1\" class=\"dataframe\">\n",
       "    <thead>\n",
       "        <tr>\n",
       "            <th>Index</th> <th>Title</th> <th>Studio</th> <th>Gross</th> <th>Gross (Adjusted)</th> <th>Year</th>\n",
       "        </tr>\n",
       "    </thead>\n",
       "    <tbody>\n",
       "        <tr>\n",
       "            <td>5    </td> <td>The Ten Commandments                 </td> <td>Paramount  </td> <td>65500000 </td> <td>1164590000      </td> <td>1956</td>\n",
       "        </tr>\n",
       "        <tr>\n",
       "            <td>15   </td> <td>Return of the Jedi                   </td> <td>Fox        </td> <td>309306177</td> <td>836188200       </td> <td>1983</td>\n",
       "        </tr>\n",
       "        <tr>\n",
       "            <td>25   </td> <td>Forrest Gump                         </td> <td>Paramount  </td> <td>330252182</td> <td>698884100       </td> <td>1994</td>\n",
       "        </tr>\n",
       "        <tr>\n",
       "            <td>35   </td> <td>Butch Cassidy and the Sundance Kid   </td> <td>Fox        </td> <td>102308889</td> <td>627259300       </td> <td>1969</td>\n",
       "        </tr>\n",
       "        <tr>\n",
       "            <td>45   </td> <td>American Graffiti                    </td> <td>Universal  </td> <td>115000000</td> <td>584200000       </td> <td>1973</td>\n",
       "        </tr>\n",
       "        <tr>\n",
       "            <td>55   </td> <td>The Towering Inferno                 </td> <td>Fox        </td> <td>116000000</td> <td>545629600       </td> <td>1974</td>\n",
       "        </tr>\n",
       "        <tr>\n",
       "            <td>65   </td> <td>The Lord of the Rings: The Two Towers</td> <td>Newline    </td> <td>342551365</td> <td>513177800       </td> <td>2002</td>\n",
       "        </tr>\n",
       "        <tr>\n",
       "            <td>75   </td> <td>Lady and the Tramp                   </td> <td>Disney     </td> <td>93602326 </td> <td>495483100       </td> <td>1955</td>\n",
       "        </tr>\n",
       "        <tr>\n",
       "            <td>85   </td> <td>The Bridge on the River Kwai         </td> <td>Columbia   </td> <td>27200000 </td> <td>483616000       </td> <td>1957</td>\n",
       "        </tr>\n",
       "        <tr>\n",
       "            <td>95   </td> <td>Aladdin                              </td> <td>Buena Vista</td> <td>217350219</td> <td>466212500       </td> <td>1992</td>\n",
       "        </tr>\n",
       "    </tbody>\n",
       "</table>\n",
       "<p>... (10 rows omitted)</p>"
      ],
      "text/plain": [
       "Index | Title                                 | Studio      | Gross     | Gross (Adjusted) | Year\n",
       "5     | The Ten Commandments                  | Paramount   | 65500000  | 1164590000       | 1956\n",
       "15    | Return of the Jedi                    | Fox         | 309306177 | 836188200        | 1983\n",
       "25    | Forrest Gump                          | Paramount   | 330252182 | 698884100        | 1994\n",
       "35    | Butch Cassidy and the Sundance Kid    | Fox         | 102308889 | 627259300        | 1969\n",
       "45    | American Graffiti                     | Universal   | 115000000 | 584200000        | 1973\n",
       "55    | The Towering Inferno                  | Fox         | 116000000 | 545629600        | 1974\n",
       "65    | The Lord of the Rings: The Two Towers | Newline     | 342551365 | 513177800        | 2002\n",
       "75    | Lady and the Tramp                    | Disney      | 93602326  | 495483100        | 1955\n",
       "85    | The Bridge on the River Kwai          | Columbia    | 27200000  | 483616000        | 1957\n",
       "95    | Aladdin                               | Buena Vista | 217350219 | 466212500        | 1992\n",
       "... (10 rows omitted)"
      ]
     },
     "execution_count": 97,
     "metadata": {},
     "output_type": "execute_result"
    }
   ],
   "source": [
    "movies.take(np.arange(np.random.choice(np.arange(1,11)), 200,10))"
   ]
  },
  {
   "cell_type": "code",
   "execution_count": 102,
   "metadata": {},
   "outputs": [
    {
     "data": {
      "text/html": [
       "<table border=\"1\" class=\"dataframe\">\n",
       "    <thead>\n",
       "        <tr>\n",
       "            <th>Index</th> <th>Title</th> <th>Studio</th> <th>Gross</th> <th>Gross (Adjusted)</th> <th>Year</th>\n",
       "        </tr>\n",
       "    </thead>\n",
       "    <tbody>\n",
       "        <tr>\n",
       "            <td>44   </td> <td>Airport                     </td> <td>Universal      </td> <td>100489151</td> <td>587729300       </td> <td>1970</td>\n",
       "        </tr>\n",
       "        <tr>\n",
       "            <td>147  </td> <td>Guess Who's Coming to Dinner</td> <td>Columbia       </td> <td>56666667 </td> <td>384554700       </td> <td>1967</td>\n",
       "        </tr>\n",
       "        <tr>\n",
       "            <td>40   </td> <td>Pinocchio                   </td> <td>Disney         </td> <td>84254167 </td> <td>599215600       </td> <td>1940</td>\n",
       "        </tr>\n",
       "        <tr>\n",
       "            <td>8    </td> <td>The Exorcist                </td> <td>Warner Brothers</td> <td>232906145</td> <td>983226600       </td> <td>1973</td>\n",
       "        </tr>\n",
       "        <tr>\n",
       "            <td>52   </td> <td>The Bells of St. Mary's     </td> <td>RKO            </td> <td>21333333 </td> <td>557803900       </td> <td>1945</td>\n",
       "        </tr>\n",
       "    </tbody>\n",
       "</table>"
      ],
      "text/plain": [
       "Index | Title                        | Studio          | Gross     | Gross (Adjusted) | Year\n",
       "44    | Airport                      | Universal       | 100489151 | 587729300        | 1970\n",
       "147   | Guess Who's Coming to Dinner | Columbia        | 56666667  | 384554700        | 1967\n",
       "40    | Pinocchio                    | Disney          | 84254167  | 599215600        | 1940\n",
       "8     | The Exorcist                 | Warner Brothers | 232906145 | 983226600        | 1973\n",
       "52    | The Bells of St. Mary's      | RKO             | 21333333  | 557803900        | 1945"
      ]
     },
     "execution_count": 102,
     "metadata": {},
     "output_type": "execute_result"
    }
   ],
   "source": [
    "movies.sample(5, with_replacement=False)"
   ]
  },
  {
   "cell_type": "code",
   "execution_count": 107,
   "metadata": {},
   "outputs": [
    {
     "data": {
      "text/html": [
       "<table border=\"1\" class=\"dataframe\">\n",
       "    <thead>\n",
       "        <tr>\n",
       "            <th>Face</th> <th>Probability</th>\n",
       "        </tr>\n",
       "    </thead>\n",
       "    <tbody>\n",
       "        <tr>\n",
       "            <td>1   </td> <td>0.166667   </td>\n",
       "        </tr>\n",
       "        <tr>\n",
       "            <td>2   </td> <td>0.166667   </td>\n",
       "        </tr>\n",
       "        <tr>\n",
       "            <td>3   </td> <td>0.166667   </td>\n",
       "        </tr>\n",
       "        <tr>\n",
       "            <td>4   </td> <td>0.166667   </td>\n",
       "        </tr>\n",
       "        <tr>\n",
       "            <td>5   </td> <td>0.166667   </td>\n",
       "        </tr>\n",
       "        <tr>\n",
       "            <td>6   </td> <td>0.166667   </td>\n",
       "        </tr>\n",
       "    </tbody>\n",
       "</table>"
      ],
      "text/plain": [
       "Face | Probability\n",
       "1    | 0.166667\n",
       "2    | 0.166667\n",
       "3    | 0.166667\n",
       "4    | 0.166667\n",
       "5    | 0.166667\n",
       "6    | 0.166667"
      ]
     },
     "execution_count": 107,
     "metadata": {},
     "output_type": "execute_result"
    }
   ],
   "source": [
    "dice = Table().with_column('Face',np.arange(1,7))\n",
    "dice.with_column('Probability',1/6)"
   ]
  },
  {
   "cell_type": "code",
   "execution_count": 106,
   "metadata": {},
   "outputs": [
    {
     "data": {
      "image/png": "[encoded data removed]",
      "text/plain": [
       "<Figure size 432x288 with 1 Axes>"
      ]
     },
     "metadata": {
      "needs_background": "light"
     },
     "output_type": "display_data"
    }
   ],
   "source": [
    "dice.hist('Face', bins=np.arange(0.5,7.5,1))"
   ]
  },
  {
   "cell_type": "code",
   "execution_count": 113,
   "metadata": {},
   "outputs": [
    {
     "data": {
      "image/png": "[encoded data removed]",
      "text/plain": [
       "<Figure size 432x288 with 1 Axes>"
      ]
     },
     "metadata": {
      "needs_background": "light"
     },
     "output_type": "display_data"
    }
   ],
   "source": [
    "dice.sample(20000).hist(\"Face\", bins=np.arange(0.5,7.5,1))"
   ]
  },
  {
   "cell_type": "code",
   "execution_count": null,
   "metadata": {},
   "outputs": [],
   "source": []
  }
 ],
 "metadata": {
  "kernelspec": {
   "display_name": "Python 3",
   "language": "python",
   "name": "python3"
  },
  "language_info": {
   "codemirror_mode": {
    "name": "ipython",
    "version": 3
   },
   "file_extension": ".py",
   "mimetype": "text/x-python",
   "name": "python",
   "nbconvert_exporter": "python",
   "pygments_lexer": "ipython3",
   "version": "3.6.5"
  }
 },
 "nbformat": 4,
 "nbformat_minor": 2
}
