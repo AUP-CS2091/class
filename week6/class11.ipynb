{
 "cells": [
  {
   "cell_type": "code",
   "execution_count": null,
   "metadata": {},
   "outputs": [],
   "source": [
    "from datascience import *\n",
    "import numpy as np\n",
    "import matplotlib.pyplot as plots\n",
    "%matplotlib inline"
   ]
  },
  {
   "cell_type": "code",
   "execution_count": 149,
   "metadata": {},
   "outputs": [
    {
     "data": {
      "text/html": [
       "<table border=\"1\" class=\"dataframe\">\n",
       "    <thead>\n",
       "        <tr>\n",
       "            <th>Face</th> <th>Probability</th>\n",
       "        </tr>\n",
       "    </thead>\n",
       "    <tbody>\n",
       "        <tr>\n",
       "            <td>1   </td> <td>0.166667   </td>\n",
       "        </tr>\n",
       "        <tr>\n",
       "            <td>2   </td> <td>0.166667   </td>\n",
       "        </tr>\n",
       "        <tr>\n",
       "            <td>3   </td> <td>0.166667   </td>\n",
       "        </tr>\n",
       "        <tr>\n",
       "            <td>4   </td> <td>0.166667   </td>\n",
       "        </tr>\n",
       "        <tr>\n",
       "            <td>5   </td> <td>0.166667   </td>\n",
       "        </tr>\n",
       "        <tr>\n",
       "            <td>6   </td> <td>0.166667   </td>\n",
       "        </tr>\n",
       "    </tbody>\n",
       "</table>"
      ],
      "text/plain": [
       "Face | Probability\n",
       "1    | 0.166667\n",
       "2    | 0.166667\n",
       "3    | 0.166667\n",
       "4    | 0.166667\n",
       "5    | 0.166667\n",
       "6    | 0.166667"
      ]
     },
     "execution_count": 149,
     "metadata": {},
     "output_type": "execute_result"
    }
   ],
   "source": [
    "dice = Table().with_column('Face',np.arange(1,7))\n",
    "dice.with_column('Probability',1/6)"
   ]
  },
  {
   "cell_type": "code",
   "execution_count": 150,
   "metadata": {},
   "outputs": [
    {
     "data": {
      "image/png": "[encoded data removed]",
      "text/plain": [
       "<Figure size 432x288 with 1 Axes>"
      ]
     },
     "metadata": {
      "needs_background": "light"
     },
     "output_type": "display_data"
    }
   ],
   "source": [
    "dice.hist('Face', bins=np.arange(0.5,7.5,1))"
   ]
  },
  {
   "cell_type": "code",
   "execution_count": 153,
   "metadata": {},
   "outputs": [
    {
     "data": {
      "image/png": "[encoded data removed]",
      "text/plain": [
       "<Figure size 432x288 with 1 Axes>"
      ]
     },
     "metadata": {
      "needs_background": "light"
     },
     "output_type": "display_data"
    }
   ],
   "source": [
    "dice.sample(1000).hist(\"Face\", bins=np.arange(0.5,7.5,1))"
   ]
  },
  {
   "cell_type": "code",
   "execution_count": 154,
   "metadata": {},
   "outputs": [
    {
     "data": {
      "text/html": [
       "<table border=\"1\" class=\"dataframe\">\n",
       "    <thead>\n",
       "        <tr>\n",
       "            <th>Date</th> <th>Flight Number</th> <th>Destination</th> <th>Delay</th>\n",
       "        </tr>\n",
       "    </thead>\n",
       "    <tbody>\n",
       "        <tr>\n",
       "            <td>6/1/15</td> <td>73           </td> <td>HNL        </td> <td>257  </td>\n",
       "        </tr>\n",
       "        <tr>\n",
       "            <td>6/1/15</td> <td>217          </td> <td>EWR        </td> <td>28   </td>\n",
       "        </tr>\n",
       "        <tr>\n",
       "            <td>6/1/15</td> <td>237          </td> <td>STL        </td> <td>-3   </td>\n",
       "        </tr>\n",
       "        <tr>\n",
       "            <td>6/1/15</td> <td>250          </td> <td>SAN        </td> <td>0    </td>\n",
       "        </tr>\n",
       "        <tr>\n",
       "            <td>6/1/15</td> <td>267          </td> <td>PHL        </td> <td>64   </td>\n",
       "        </tr>\n",
       "        <tr>\n",
       "            <td>6/1/15</td> <td>273          </td> <td>SEA        </td> <td>-6   </td>\n",
       "        </tr>\n",
       "        <tr>\n",
       "            <td>6/1/15</td> <td>278          </td> <td>SEA        </td> <td>-8   </td>\n",
       "        </tr>\n",
       "        <tr>\n",
       "            <td>6/1/15</td> <td>292          </td> <td>EWR        </td> <td>12   </td>\n",
       "        </tr>\n",
       "        <tr>\n",
       "            <td>6/1/15</td> <td>300          </td> <td>HNL        </td> <td>20   </td>\n",
       "        </tr>\n",
       "        <tr>\n",
       "            <td>6/1/15</td> <td>317          </td> <td>IND        </td> <td>-10  </td>\n",
       "        </tr>\n",
       "    </tbody>\n",
       "</table>\n",
       "<p>... (13815 rows omitted)</p>"
      ],
      "text/plain": [
       "Date   | Flight Number | Destination | Delay\n",
       "6/1/15 | 73            | HNL         | 257\n",
       "6/1/15 | 217           | EWR         | 28\n",
       "6/1/15 | 237           | STL         | -3\n",
       "6/1/15 | 250           | SAN         | 0\n",
       "6/1/15 | 267           | PHL         | 64\n",
       "6/1/15 | 273           | SEA         | -6\n",
       "6/1/15 | 278           | SEA         | -8\n",
       "6/1/15 | 292           | EWR         | 12\n",
       "6/1/15 | 300           | HNL         | 20\n",
       "6/1/15 | 317           | IND         | -10\n",
       "... (13815 rows omitted)"
      ]
     },
     "execution_count": 154,
     "metadata": {},
     "output_type": "execute_result"
    }
   ],
   "source": [
    "flights = Table.read_table('https://raw.githubusercontent.com/AUP-CS2091/class/master/week5/united_summer2015.csv')\n",
    "flights"
   ]
  },
  {
   "cell_type": "code",
   "execution_count": 155,
   "metadata": {},
   "outputs": [
    {
     "data": {
      "text/plain": [
       "2.0"
      ]
     },
     "execution_count": 155,
     "metadata": {},
     "output_type": "execute_result"
    }
   ],
   "source": [
    "np.median(flights.column('Delay'))"
   ]
  },
  {
   "cell_type": "code",
   "execution_count": 165,
   "metadata": {},
   "outputs": [
    {
     "data": {
      "text/plain": [
       "3.5"
      ]
     },
     "execution_count": 165,
     "metadata": {},
     "output_type": "execute_result"
    }
   ],
   "source": [
    "np.median(flights.sample(100).column('Delay'))"
   ]
  },
  {
   "cell_type": "code",
   "execution_count": 166,
   "metadata": {},
   "outputs": [
    {
     "data": {
      "text/plain": [
       "array([4. , 1. , 2.5, 3. , 4. , 3. , 2.5, 2. , 2. , 2. , 2. , 1.5, 3. ,\n",
       "       2. , 4.5, 0. , 3.5, 2. , 4. , 4.5, 3. , 3.5, 3. , 2. , 3. , 5. ,\n",
       "       5. , 4.5, 3. , 4.5, 2.5, 3. , 0. , 4. , 4. , 1. , 0. , 5.5, 6. ,\n",
       "       1. , 3.5, 2. , 2. , 3. , 3. , 5. , 1.5, 0. , 1. , 2.5, 3. , 4. ,\n",
       "       2. , 2. , 4.5, 2.5, 3. , 2. , 2.5, 0. , 4. , 4. , 2.5, 1.5, 6. ,\n",
       "       2. , 6.5, 0. , 3. , 2. , 1. , 3. , 1. , 3.5, 2. , 4.5, 1. , 2.5,\n",
       "       4. , 3. , 4. , 2. , 2. , 4. , 3. , 1. , 3. , 2. , 1. , 0. , 3. ,\n",
       "       2.5, 6. , 2.5, 4. , 1. , 4. , 3. , 3.5, 1.5, 0.5, 3. , 3. , 4. ,\n",
       "       4. , 3. , 3. , 3. , 5.5, 3.5, 0.5, 2. , 4. , 1. , 0. , 3. , 2. ,\n",
       "       0. , 1. , 2. , 2. , 2.5, 3. , 1. , 2. , 3. , 2.5, 3.5, 4. , 0.5,\n",
       "       5.5, 2. , 5.5, 0.5, 6. , 1.5, 3. , 1. , 1.5, 2.5, 3.5, 3. , 1. ,\n",
       "       1. , 4. , 4. , 0. , 5. , 0. , 0.5, 4.5, 1. , 4.5, 0.5, 1.5, 5.5,\n",
       "       4. , 2. , 4.5, 1.5, 2. , 3. , 2. , 3. , 5.5, 8.5, 1.5, 5.5, 3. ,\n",
       "       2. , 1. , 2.5, 0. , 2. , 4. , 3.5, 6. , 3. , 2. , 0.5, 1.5, 4.5,\n",
       "       2. , 3. , 1. , 0. , 5. , 0. , 4. , 3. , 2. , 3. , 2. , 0. , 2.5,\n",
       "       0.5, 2. , 3. , 3. , 4. , 2. , 8. , 0. , 3.5, 3. , 3. , 1. , 3. ,\n",
       "       3. , 1. , 3.5, 3. , 2.5, 2. , 4. , 3. , 3. , 2. , 2. , 5. , 4. ,\n",
       "       3. , 3. , 1. , 4. , 3. , 6. , 1. , 1. , 2. , 0. , 7. , 2. , 0. ,\n",
       "       2. , 3. , 2. , 5. , 4. , 2. , 2. , 1.5, 2.5, 4. , 0. , 1. , 1. ,\n",
       "       2.5, 3.5, 1.5, 0. , 5. , 1. , 2.5, 3. , 3.5, 2.5, 2.5, 1. , 3. ,\n",
       "       1. , 3.5, 1. , 0. , 3. , 4.5, 0. , 3. , 0. , 3. , 2. , 1. , 1.5,\n",
       "       2.5, 2. , 0. , 3. , 0.5, 2. , 1.5, 1. , 2. , 3.5, 2. , 2. , 1.5,\n",
       "       1. , 3. , 5. , 3. , 5. , 1. , 1. , 3. , 1.5, 3. , 3. , 3. , 6. ,\n",
       "       2.5, 2.5, 4. , 1. , 1.5, 2. , 3. , 1. , 3. , 3. , 2. , 2. , 1. ,\n",
       "       3. , 1. , 4. , 2.5, 3. , 3. , 0. , 3. , 4.5, 2. , 1. , 3. , 1.5,\n",
       "       3.5, 2. , 1. , 2. , 2. , 1.5, 2. , 2. , 5. , 0. , 5. , 4. , 3. ,\n",
       "       5.5, 1. , 3. , 1.5, 4.5, 2. , 4. , 5.5, 4. , 2. , 2. , 1. , 1. ,\n",
       "       3. , 2. , 2.5, 1. , 3. , 1. , 1. , 4.5, 0. , 1. , 2.5, 2. , 0. ,\n",
       "       1. , 3. , 3. , 1. , 3.5, 3. , 3. , 4. , 2. , 2. , 2.5, 1. , 0. ,\n",
       "       2.5, 2. , 3.5, 3. , 4. , 2. , 2.5, 2.5, 1.5, 4. , 2. , 3.5, 3.5,\n",
       "       4. , 1. , 1. , 0. , 1. , 3. , 4. , 1. , 5. , 3. , 2.5, 2. , 3.5,\n",
       "       2. , 2. , 2. , 4. , 1. , 1. , 2. , 1.5, 4.5, 3. , 0. , 3. , 1. ,\n",
       "       0.5, 4. , 2. , 2.5, 4. , 5. , 3. , 1. , 0.5, 0.5, 5. , 2.5, 4. ,\n",
       "       4. , 3. , 1. , 2. , 7.5, 4. , 4. , 7.5, 2. , 3. , 2.5, 2.5, 1. ,\n",
       "       3. , 2. , 2. , 5. , 1.5, 2. , 1. , 3. , 3. , 6.5, 4. , 4. , 2. ,\n",
       "       4. , 2. , 3. , 0. , 1. , 4. , 1.5, 3.5, 4. , 3. , 0. , 3. , 2. ,\n",
       "       1. , 3. , 2.5, 3. , 3.5, 2. , 5.5, 1.5, 0. , 3. , 2. , 5. , 1. ,\n",
       "       1.5, 1. , 4. , 4. , 3. , 2. , 1.5, 2. , 3. , 2. , 0. , 1. , 3. ,\n",
       "       0.5, 1.5, 3.5, 2.5, 3. , 2. , 4. , 2.5, 0. , 3. , 1.5, 3. , 3. ,\n",
       "       1. , 3.5, 1. , 4.5, 7. , 3. , 4.5, 1. , 3. , 0.5, 2. , 1. , 5. ,\n",
       "       3.5, 1. , 3. , 3. , 3. , 4. , 3. , 3.5, 2.5, 4. , 3.5, 3. , 3. ,\n",
       "       0. , 2. , 4. , 1. , 3. , 0. , 2. , 0. , 4. , 2. , 2. , 3. , 3. ,\n",
       "       1. , 2. , 1. , 1. , 2.5, 3.5, 3.5, 1. , 2.5, 1. , 0. , 3. , 1. ,\n",
       "       1.5, 3. , 4. , 5.5, 0.5, 1. , 3. , 6. , 4. , 3. , 4.5, 3. , 1.5,\n",
       "       2. , 3.5, 4.5, 4.5, 6.5, 4. , 2.5, 1.5, 4. , 3. , 4. , 2. , 5. ,\n",
       "       2. , 5.5, 3. , 2. , 0. , 1. , 1.5, 3. , 3. , 2. , 4.5, 0. , 0. ,\n",
       "       2. , 0.5, 1.5, 0. , 2. , 6. , 1. , 2. , 3. , 1. , 2. , 1. , 1.5,\n",
       "       2.5, 4. , 1. , 4. , 4. , 2. , 0. , 1. , 5. , 2. , 2. , 2. , 2. ,\n",
       "       2.5, 0. , 0. , 0.5, 2. , 1. , 2.5, 2. , 5. , 2. , 2.5, 0.5, 1.5,\n",
       "       5. , 4. , 1. , 2. , 3. , 3.5, 3. , 3. , 3.5, 0. , 1. , 4. , 1.5,\n",
       "       2.5, 4. , 5. , 1. , 2. , 3.5, 1. , 3. , 2. , 1. , 1. , 1. , 3.5,\n",
       "       3. , 3.5, 0. , 3. , 2. , 0. , 4. , 3. , 2. , 0. , 2.5, 0. , 3. ,\n",
       "       5. , 3. , 2. , 3.5, 2.5, 3. , 2. , 5.5, 5.5, 1. , 2. , 1. , 1. ,\n",
       "       2.5, 1. , 3. , 1.5, 1. , 0. , 3.5, 2. , 4. , 2. , 2. , 1. , 2.5,\n",
       "       2. , 3. , 1. , 5. , 5.5, 1.5, 2. , 2.5, 1.5, 1. , 4. , 4. , 2. ,\n",
       "       1. , 7. , 1.5, 5. , 3. , 3. , 6. , 3. , 1. , 4.5, 2. , 4.5, 4. ,\n",
       "       4. , 1. , 1. , 0.5, 6.5, 2. , 2. , 2.5, 2. , 0. , 0. , 2. , 1. ,\n",
       "       3. , 7.5, 1. , 3. , 4. , 2.5, 3. , 3. , 4.5, 2. , 2. , 4.5, 4.5,\n",
       "       3. , 2. , 5.5, 1.5, 2.5, 0. , 1. , 3.5, 0. , 5. , 5.5, 3. , 4. ,\n",
       "       0. , 6.5, 5. , 2. , 1.5, 1.5, 3.5, 5. , 0. , 5. , 3. , 1. , 2. ,\n",
       "       5. , 0.5, 4. , 5.5, 2.5, 2. , 2.5, 4. , 0. , 4. , 0.5, 2. , 8. ,\n",
       "       4. , 4. , 2. , 3.5, 1. , 3. , 3. , 3. , 2. , 6. , 2. , 1. , 1. ,\n",
       "       2.5, 2.5, 0. , 1. , 2. , 1. , 3.5, 1. , 6. , 4. , 1. , 1.5, 3.5,\n",
       "       3. , 3. , 1. , 2.5, 0. , 2.5, 3. , 2.5, 1.5, 3. , 1. , 1.5, 0.5,\n",
       "       2. , 0. , 1.5, 3. , 4. , 7. , 3. , 6.5, 2. , 1.5, 3. , 1.5, 0. ,\n",
       "       1. , 1.5, 3. , 3.5, 4. , 3. , 5.5, 7. , 2. , 1. , 2.5, 5. , 1.5,\n",
       "       1. , 1. , 2. , 1.5, 5. , 3. , 5.5, 1. , 1. , 2. , 3. , 2. , 0. ,\n",
       "       1. , 3. , 2. , 0. , 3. , 2.5, 3. , 1. , 1.5, 1. , 5. , 3. , 3. ,\n",
       "       3.5, 1. , 4. , 3.5, 4.5, 1. , 0. , 3. , 4. , 3.5, 1.5, 2.5, 4.5,\n",
       "       1. , 4.5, 1. , 2.5, 4. , 3. , 6. , 4.5, 0. , 2. , 6. , 3.5, 3.5,\n",
       "       4.5, 5. , 5. , 3. , 3. , 6. , 2. , 5.5, 2. , 0. , 2.5, 1. , 3. ,\n",
       "       6. , 0.5, 1. , 3.5, 3. , 1.5, 4. , 2.5, 5.5, 3. , 0. , 4.5, 6. ,\n",
       "       1.5, 0.5, 2. , 5. , 2. , 3. , 6. , 3. , 1. , 2. , 4. , 1. , 3. ,\n",
       "       2.5, 3.5, 5. , 4. , 5. , 2. , 2. , 2.5, 4. , 0. , 4. , 3. , 2.5,\n",
       "       2.5, 4. , 0.5, 3. , 1. , 3. , 1.5, 3. , 2. , 3. , 2.5, 1. , 2.5,\n",
       "       2. , 4. , 4. , 4. , 3.5, 3. , 2.5, 3. , 2. , 1. , 1. , 2.5, 3. ,\n",
       "       3. , 2. , 0. , 0. , 3. , 4. , 1. , 2. , 1. , 3. , 3. , 1. ])"
      ]
     },
     "execution_count": 166,
     "metadata": {},
     "output_type": "execute_result"
    }
   ],
   "source": [
    "delay_median_expr_size = 1000\n",
    "delay_median_array = make_array()\n",
    "\n",
    "for i in np.arange(delay_median_expr_size):\n",
    "    delay_median_array = np.append(delay_median_array, np.median(flights.sample(100).column('Delay')))\n",
    "    \n",
    "delay_median_array"
   ]
  },
  {
   "cell_type": "code",
   "execution_count": 168,
   "metadata": {},
   "outputs": [
    {
     "data": {
      "image/png": "[encoded data removed]",
      "text/plain": [
       "<Figure size 432x288 with 1 Axes>"
      ]
     },
     "metadata": {
      "needs_background": "light"
     },
     "output_type": "display_data"
    }
   ],
   "source": [
    "Table().with_column(\"Delays\", delay_median_array).hist()"
   ]
  },
  {
   "cell_type": "code",
   "execution_count": 169,
   "metadata": {},
   "outputs": [
    {
     "data": {
      "text/plain": [
       "array([0.52, 0.48])"
      ]
     },
     "execution_count": 169,
     "metadata": {},
     "output_type": "execute_result"
    }
   ],
   "source": [
    "coin_proportions = make_array(0.5,0.5)\n",
    "sample_proportions(50, coin_proportions)"
   ]
  },
  {
   "cell_type": "code",
   "execution_count": 174,
   "metadata": {},
   "outputs": [
    {
     "data": {
      "text/plain": [
       "24.0"
      ]
     },
     "execution_count": 174,
     "metadata": {},
     "output_type": "execute_result"
    }
   ],
   "source": [
    "swain_proportions = make_array(0.26,0.74)\n",
    "number_of_black_people_on_panel = 8\n",
    "\n",
    "sample_proportions(100,swain_proportions).item(0) * 100\n"
   ]
  },
  {
   "cell_type": "code",
   "execution_count": 175,
   "metadata": {},
   "outputs": [],
   "source": [
    "swain_experiment_size = 1000\n",
    "number_of_black_people_on_panel = make_array()\n",
    "for i in np.arange(swain_experiment_size):\n",
    "    number_of_black_people_on_panel = np.append(number_of_black_people_on_panel, sample_proportions(100,swain_proportions).item(0) * 100)\n",
    "    \n",
    "swain_table = Table().with_column('Number of black people on panel', number_of_black_people_on_panel)"
   ]
  },
  {
   "cell_type": "code",
   "execution_count": 177,
   "metadata": {},
   "outputs": [
    {
     "data": {
      "text/plain": [
       "<matplotlib.collections.PathCollection at 0x7f1493cfcf28>"
      ]
     },
     "execution_count": 177,
     "metadata": {},
     "output_type": "execute_result"
    },
    {
     "data": {
      "image/png": "[encoded data removed]",
      "text/plain": [
       "<Figure size 432x288 with 1 Axes>"
      ]
     },
     "metadata": {
      "needs_background": "light"
     },
     "output_type": "display_data"
    }
   ],
   "source": [
    "swain_table.hist()\n",
    "plots.scatter(8,0,color=\"red\",s=30)"
   ]
  },
  {
   "cell_type": "code",
   "execution_count": 182,
   "metadata": {},
   "outputs": [],
   "source": [
    "number_of_black_people_on_panel_2 = make_array()\n",
    "for i in np.arange(swain_experiment_size):\n",
    "    number_of_black_people_on_panel_2 = np.append(number_of_black_people_on_panel_2, sample_proportions(100,swain_proportions).item(0) * 100 - 8)\n",
    "    \n",
    "swain_table_2 = Table().with_column('Number of black people on panel above the model', number_of_black_people_on_panel_2)"
   ]
  },
  {
   "cell_type": "code",
   "execution_count": 184,
   "metadata": {},
   "outputs": [
    {
     "data": {
      "image/png": "[encoded data removed]",
      "text/plain": [
       "<Figure size 432x288 with 1 Axes>"
      ]
     },
     "metadata": {
      "needs_background": "light"
     },
     "output_type": "display_data"
    }
   ],
   "source": [
    "swain_table_2.hist(bins = np.arange(0,40,1))\n"
   ]
  },
  {
   "cell_type": "code",
   "execution_count": 193,
   "metadata": {},
   "outputs": [
    {
     "data": {
      "text/plain": [
       "3.0"
      ]
     },
     "execution_count": 193,
     "metadata": {},
     "output_type": "execute_result"
    }
   ],
   "source": [
    "pea_proportions = make_array(0.75,0.25)\n",
    "np.abs((sample_proportions(929,pea_proportions) * 929).item(0) - 705)"
   ]
  },
  {
   "cell_type": "code",
   "execution_count": 195,
   "metadata": {},
   "outputs": [
    {
     "data": {
      "image/png": "[encoded data removed]",
      "text/plain": [
       "<Figure size 432x288 with 1 Axes>"
      ]
     },
     "metadata": {
      "needs_background": "light"
     },
     "output_type": "display_data"
    }
   ],
   "source": [
    "pea_expr_size = 10000\n",
    "pea_purple_number = make_array()\n",
    "\n",
    "for i in np.arange(pea_expr_size):\n",
    "    pea_purple_number = np.append(pea_purple_number, np.abs((sample_proportions(929,pea_proportions) * 100).item(0) - 75))\n",
    "    \n",
    "Table().with_column(\"Perecent of purple flowers below or above 75\", pea_purple_number).hist()"
   ]
  },
  {
   "cell_type": "code",
   "execution_count": 197,
   "metadata": {},
   "outputs": [
    {
     "data": {
      "image/png": "[encoded data removed]",
      "text/plain": [
       "<Figure size 432x288 with 1 Axes>"
      ]
     },
     "metadata": {
      "needs_background": "light"
     },
     "output_type": "display_data"
    }
   ],
   "source": [
    "jury = Table().with_columns(\n",
    "    'Ethnicity', make_array('Asian', 'Black', 'Latino', 'White', 'Other'),\n",
    "    'Eligible', make_array(0.15, 0.18, 0.12, 0.54, 0.01),\n",
    "    'Panels', make_array(0.26, 0.08, 0.08, 0.54, 0.04)\n",
    ")\n",
    "\n",
    "jury.barh(0)"
   ]
  },
  {
   "cell_type": "code",
   "execution_count": 201,
   "metadata": {},
   "outputs": [
    {
     "data": {
      "text/plain": [
       "0.14"
      ]
     },
     "execution_count": 201,
     "metadata": {},
     "output_type": "execute_result"
    }
   ],
   "source": [
    "sum(np.abs(jury.column(1)-jury.column(2)))/2"
   ]
  },
  {
   "cell_type": "code",
   "execution_count": 203,
   "metadata": {},
   "outputs": [
    {
     "data": {
      "text/plain": [
       "0.013333333333333317"
      ]
     },
     "execution_count": 203,
     "metadata": {},
     "output_type": "execute_result"
    }
   ],
   "source": [
    "eligible_proportion = jury.column(1)\n",
    "\n",
    "sum(np.abs(jury.column(1)-sample_proportions(1500,eligible_proportion)))/2"
   ]
  },
  {
   "cell_type": "code",
   "execution_count": 210,
   "metadata": {},
   "outputs": [
    {
     "data": {
      "text/plain": [
       "<matplotlib.collections.PathCollection at 0x7f1493604828>"
      ]
     },
     "execution_count": 210,
     "metadata": {},
     "output_type": "execute_result"
    },
    {
     "data": {
      "image/png": "[encoded data removed]",
      "text/plain": [
       "<Figure size 432x288 with 1 Axes>"
      ]
     },
     "metadata": {
      "needs_background": "light"
     },
     "output_type": "display_data"
    }
   ],
   "source": [
    "jury_expr_size = 10000\n",
    "jury_proportions_array = make_array()\n",
    "\n",
    "for i in np.arange(jury_expr_size):\n",
    "    jury_proportions_array = np.append(jury_proportions_array, np.abs(sum(np.abs(jury.column(1)-sample_proportions(1500,eligible_proportion)))/2))\n",
    "    \n",
    "Table().with_column(\"TVD\", jury_proportions_array).hist()\n",
    "plots.scatter(0.14,0,color=\"red\",s=30)"
   ]
  },
  {
   "cell_type": "code",
   "execution_count": null,
   "metadata": {},
   "outputs": [],
   "source": []
  }
 ],
 "metadata": {
  "kernelspec": {
   "display_name": "Python 3",
   "language": "python",
   "name": "python3"
  },
  "language_info": {
   "codemirror_mode": {
    "name": "ipython",
    "version": 3
   },
   "file_extension": ".py",
   "mimetype": "text/x-python",
   "name": "python",
   "nbconvert_exporter": "python",
   "pygments_lexer": "ipython3",
   "version": "3.6.5"
  }
 },
 "nbformat": 4,
 "nbformat_minor": 2
}
