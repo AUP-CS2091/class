{
 "cells": [
  {
   "cell_type": "code",
   "execution_count": 1,
   "metadata": {},
   "outputs": [],
   "source": [
    "from datascience import *\n",
    "import numpy as np\n",
    "%matplotlib inline"
   ]
  },
  {
   "cell_type": "code",
   "execution_count": 2,
   "metadata": {},
   "outputs": [
    {
     "data": {
      "text/html": [
       "<table border=\"1\" class=\"dataframe\">\n",
       "    <thead>\n",
       "        <tr>\n",
       "            <th>Birth Weight</th> <th>Gestational Days</th> <th>Maternal Age</th> <th>Maternal Height</th> <th>Maternal Pregnancy Weight</th> <th>Maternal Smoker</th>\n",
       "        </tr>\n",
       "    </thead>\n",
       "    <tbody>\n",
       "        <tr>\n",
       "            <td>120         </td> <td>284             </td> <td>27          </td> <td>62             </td> <td>100                      </td> <td>False          </td>\n",
       "        </tr>\n",
       "        <tr>\n",
       "            <td>113         </td> <td>282             </td> <td>33          </td> <td>64             </td> <td>135                      </td> <td>False          </td>\n",
       "        </tr>\n",
       "        <tr>\n",
       "            <td>128         </td> <td>279             </td> <td>28          </td> <td>64             </td> <td>115                      </td> <td>True           </td>\n",
       "        </tr>\n",
       "        <tr>\n",
       "            <td>108         </td> <td>282             </td> <td>23          </td> <td>67             </td> <td>125                      </td> <td>True           </td>\n",
       "        </tr>\n",
       "        <tr>\n",
       "            <td>136         </td> <td>286             </td> <td>25          </td> <td>62             </td> <td>93                       </td> <td>False          </td>\n",
       "        </tr>\n",
       "        <tr>\n",
       "            <td>138         </td> <td>244             </td> <td>33          </td> <td>62             </td> <td>178                      </td> <td>False          </td>\n",
       "        </tr>\n",
       "        <tr>\n",
       "            <td>132         </td> <td>245             </td> <td>23          </td> <td>65             </td> <td>140                      </td> <td>False          </td>\n",
       "        </tr>\n",
       "        <tr>\n",
       "            <td>120         </td> <td>289             </td> <td>25          </td> <td>62             </td> <td>125                      </td> <td>False          </td>\n",
       "        </tr>\n",
       "        <tr>\n",
       "            <td>143         </td> <td>299             </td> <td>30          </td> <td>66             </td> <td>136                      </td> <td>True           </td>\n",
       "        </tr>\n",
       "        <tr>\n",
       "            <td>140         </td> <td>351             </td> <td>27          </td> <td>68             </td> <td>120                      </td> <td>False          </td>\n",
       "        </tr>\n",
       "    </tbody>\n",
       "</table>\n",
       "<p>... (1164 rows omitted)</p>"
      ],
      "text/plain": [
       "Birth Weight | Gestational Days | Maternal Age | Maternal Height | Maternal Pregnancy Weight | Maternal Smoker\n",
       "120          | 284              | 27           | 62              | 100                       | False\n",
       "113          | 282              | 33           | 64              | 135                       | False\n",
       "128          | 279              | 28           | 64              | 115                       | True\n",
       "108          | 282              | 23           | 67              | 125                       | True\n",
       "136          | 286              | 25           | 62              | 93                        | False\n",
       "138          | 244              | 33           | 62              | 178                       | False\n",
       "132          | 245              | 23           | 65              | 140                       | False\n",
       "120          | 289              | 25           | 62              | 125                       | False\n",
       "143          | 299              | 30           | 66              | 136                       | True\n",
       "140          | 351              | 27           | 68              | 120                       | False\n",
       "... (1164 rows omitted)"
      ]
     },
     "execution_count": 2,
     "metadata": {},
     "output_type": "execute_result"
    }
   ],
   "source": [
    "babies = Table.read_table('https://raw.githubusercontent.com/AUP-CS2091/class/master/week7/baby.csv')\n",
    "babies"
   ]
  },
  {
   "cell_type": "code",
   "execution_count": 3,
   "metadata": {},
   "outputs": [
    {
     "data": {
      "text/html": [
       "<table border=\"1\" class=\"dataframe\">\n",
       "    <thead>\n",
       "        <tr>\n",
       "            <th>Maternal Smoker</th> <th>Birth Weight average</th> <th>Gestational Days average</th> <th>Maternal Age average</th> <th>Maternal Height average</th> <th>Maternal Pregnancy Weight average</th>\n",
       "        </tr>\n",
       "    </thead>\n",
       "    <tbody>\n",
       "        <tr>\n",
       "            <td>False          </td> <td>123.085             </td> <td>279.874                 </td> <td>27.5441             </td> <td>64.014                 </td> <td>129.48                           </td>\n",
       "        </tr>\n",
       "        <tr>\n",
       "            <td>True           </td> <td>113.819             </td> <td>277.898                 </td> <td>26.7364             </td> <td>64.1046                </td> <td>126.919                          </td>\n",
       "        </tr>\n",
       "    </tbody>\n",
       "</table>"
      ],
      "text/plain": [
       "Maternal Smoker | Birth Weight average | Gestational Days average | Maternal Age average | Maternal Height average | Maternal Pregnancy Weight average\n",
       "False           | 123.085              | 279.874                  | 27.5441              | 64.014                  | 129.48\n",
       "True            | 113.819              | 277.898                  | 26.7364              | 64.1046                 | 126.919"
      ]
     },
     "execution_count": 3,
     "metadata": {},
     "output_type": "execute_result"
    }
   ],
   "source": [
    "babies.group(\"Maternal Smoker\", np.average)"
   ]
  },
  {
   "cell_type": "code",
   "execution_count": 4,
   "metadata": {},
   "outputs": [
    {
     "data": {
      "text/plain": [
       "-9.266142572024918"
      ]
     },
     "execution_count": 4,
     "metadata": {},
     "output_type": "execute_result"
    }
   ],
   "source": [
    "babies_weights_smoking = babies.select(\"Maternal Smoker\", \"Birth Weight\")\n",
    "\n",
    "def test_statistic(table, group, value):\n",
    "    tbl = table.select(group, value)\n",
    "    group = tbl.group(group, np.average)\n",
    "    return group.column(1).item(1) - group.column(1).item(0)\n",
    "\n",
    "test_statistic(babies, \"Maternal Smoker\", \"Birth Weight\")"
   ]
  },
  {
   "cell_type": "code",
   "execution_count": 5,
   "metadata": {},
   "outputs": [
    {
     "data": {
      "text/plain": [
       "array([112, 123, 117, ..., 114, 160, 122])"
      ]
     },
     "execution_count": 5,
     "metadata": {},
     "output_type": "execute_result"
    }
   ],
   "source": [
    "babies_weights_smoking.sample(with_replacement=False).column(1)"
   ]
  },
  {
   "cell_type": "code",
   "execution_count": 6,
   "metadata": {},
   "outputs": [
    {
     "data": {
      "text/html": [
       "<table border=\"1\" class=\"dataframe\">\n",
       "    <thead>\n",
       "        <tr>\n",
       "            <th>Maternal Smoker</th> <th>Birth Weight</th>\n",
       "        </tr>\n",
       "    </thead>\n",
       "    <tbody>\n",
       "        <tr>\n",
       "            <td>False          </td> <td>120         </td>\n",
       "        </tr>\n",
       "        <tr>\n",
       "            <td>False          </td> <td>113         </td>\n",
       "        </tr>\n",
       "    </tbody>\n",
       "</table>\n",
       "<p>... (1172 rows omitted)</p>"
      ],
      "text/plain": [
       "<IPython.core.display.HTML object>"
      ]
     },
     "metadata": {},
     "output_type": "display_data"
    }
   ],
   "source": [
    "babies_weights_smoking.show(2)"
   ]
  },
  {
   "cell_type": "code",
   "execution_count": 8,
   "metadata": {},
   "outputs": [],
   "source": [
    "babies_weights_smoking_permute = babies_weights_smoking.with_column(\"Permuted\", babies_weights_smoking.sample(with_replacement=False).column(1))"
   ]
  },
  {
   "cell_type": "code",
   "execution_count": 21,
   "metadata": {},
   "outputs": [],
   "source": [
    "babies_maternal = babies.select(\"Maternal Smoker\", \"Maternal Pregnancy Weight\")"
   ]
  },
  {
   "cell_type": "code",
   "execution_count": 10,
   "metadata": {},
   "outputs": [
    {
     "data": {
      "text/html": [
       "<table border=\"1\" class=\"dataframe\">\n",
       "    <thead>\n",
       "        <tr>\n",
       "            <th>Maternal Smoker</th> <th>Birth Weight average</th> <th>Permuted average</th>\n",
       "        </tr>\n",
       "    </thead>\n",
       "    <tbody>\n",
       "        <tr>\n",
       "            <td>False          </td> <td>123.085             </td> <td>118.803         </td>\n",
       "        </tr>\n",
       "        <tr>\n",
       "            <td>True           </td> <td>113.819             </td> <td>120.49          </td>\n",
       "        </tr>\n",
       "    </tbody>\n",
       "</table>"
      ],
      "text/plain": [
       "Maternal Smoker | Birth Weight average | Permuted average\n",
       "False           | 123.085              | 118.803\n",
       "True            | 113.819              | 120.49"
      ]
     },
     "execution_count": 10,
     "metadata": {},
     "output_type": "execute_result"
    }
   ],
   "source": [
    "babies_weights_smoking_permute.group(\"Maternal Smoker\", np.average)"
   ]
  },
  {
   "cell_type": "code",
   "execution_count": 12,
   "metadata": {},
   "outputs": [
    {
     "data": {
      "text/plain": [
       "1.687398875634159"
      ]
     },
     "execution_count": 12,
     "metadata": {},
     "output_type": "execute_result"
    }
   ],
   "source": [
    "test_statistic(babies_weights_smoking_permute, \"Maternal Smoker\", \"Permuted\")"
   ]
  },
  {
   "cell_type": "code",
   "execution_count": 22,
   "metadata": {},
   "outputs": [
    {
     "data": {
      "text/plain": [
       "array([ 1.10072977e+00,  5.21215168e-01, -1.29602815e+00,  3.56661639e-01,\n",
       "        1.16985846e-01,  6.71459695e-01, -5.48382772e-01,  1.58008136e+00,\n",
       "        6.57150692e-01, -1.36399592e+00,  9.50485245e-01, -3.65942989e-01,\n",
       "        9.61216997e-01,  3.78125143e-01, -1.23521489e+00,  1.77799107e-01,\n",
       "       -2.02221003e+00, -1.39261392e+00, -1.13505188e+00, -7.59440559e-01,\n",
       "        3.56661639e-01,  2.37780825e+00, -1.22689946e-01, -1.30318266e+00,\n",
       "        1.43341408e+00, -7.09359051e-01,  2.20726115e-01, -1.00984810e+00,\n",
       "        3.81702393e-01, -8.33401892e-02,  7.71622713e-01,  8.71785731e-01,\n",
       "       -1.05277511e+00,  1.46203209e+00,  8.36013224e-01, -1.03488886e+00,\n",
       "        6.32109938e-01,  1.69455338e+00, -1.55001295e+00, -2.19275713e-01,\n",
       "        1.19731554e+00,  3.78125143e-01, -5.82994348e-02, -1.94708777e+00,\n",
       "       -1.01226442e-01,  7.03654951e-01,  1.05422551e+00, -2.72934473e-01,\n",
       "        8.68208480e-01, -1.53212670e+00,  1.61943111e+00,  5.14060667e-01,\n",
       "        1.20089279e+00, -8.69174399e-02, -1.43554093e+00, -1.18871064e+00,\n",
       "        3.16838064e+00,  2.28122248e+00, -3.33747734e-01, -1.01226442e-01,\n",
       "       -8.02367567e-01,  3.45929887e-01, -2.83666225e-01,  3.24466383e-01,\n",
       "        1.63374012e+00,  6.14223685e-01, -6.34236787e-01, -1.55359020e+00,\n",
       "        5.96337432e-01, -1.40334567e+00, -7.34399805e-01, -1.18155613e+00,\n",
       "        8.39590475e-01,  1.09357527e+00, -1.36399592e+00, -1.51424044e+00,\n",
       "       -1.22090589e+00, -4.94724012e-01,  1.34040556e+00, -9.74075598e-01,\n",
       "       -1.26025565e+00, -1.19112696e-01,  7.46581958e-01, -8.45294575e-01,\n",
       "        8.75362981e-01,  1.14365678e+00, -7.41554306e-01,  2.77962125e-01,\n",
       "        6.57150692e-01, -1.61082621e+00,  1.08999802e+00,  1.56335603e-01,\n",
       "       -1.13147463e+00,  1.34756007e+00, -4.23179000e-01,  2.63653122e-01,\n",
       "       -2.22852964e-01,  2.06417112e-01, -7.91635815e-01,  1.38690982e+00,\n",
       "       -3.37324984e-01, -2.83666225e-01,  6.42841690e-01, -2.07586879e+00,\n",
       "       -2.07229154e+00, -5.77000777e-01, -1.35326417e+00,  8.68208480e-01,\n",
       "        3.45929887e-01,  1.45845483e+00, -7.12936301e-01, -9.77652848e-01,\n",
       "        2.52921371e-01,  9.29021741e-01, -2.97975227e-01,  1.12934778e+00,\n",
       "        5.53410424e-01,  5.92760181e-01,  2.39773299e-02,  1.26170605e+00,\n",
       "       -5.12610266e-01,  8.28858723e-01, -1.28529640e+00, -1.21017414e+00,\n",
       "       -9.84807350e-01,  7.43004708e-01, -1.53724271e-02, -1.67163947e+00,\n",
       "        7.57313710e-01,  7.89508966e-01, -1.83503207e-01, -3.40902235e-01,\n",
       "       -1.09927937e+00, -1.42480918e+00, -1.95066502e+00, -5.98464281e-01,\n",
       "        1.04707101e+00,  1.90561116e+00,  1.02676844e-01, -6.34236787e-01,\n",
       "       -9.99116352e-01, -2.32627634e+00, -1.02773436e+00,  2.16317321e+00,\n",
       "       -6.54539360e-02, -1.14220638e+00, -2.15698463e-01,  7.93086217e-01,\n",
       "       -4.01715496e-01, -4.87569511e-01, -5.82994348e-02, -5.01878514e-01,\n",
       "        1.56577235e+00, -9.40719411e-02,  6.32109938e-01,  1.99504243e+00,\n",
       "       -1.68594847e+00, -1.03488886e+00,  1.35829182e+00, -8.23831071e-01,\n",
       "        6.10646434e-01, -4.64067523e-03, -1.26267197e-01,  9.61216997e-01,\n",
       "        1.20563097e-01,  2.95732285e+00, -2.94397977e-01, -1.37115042e+00,\n",
       "        8.07395219e-01, -1.19112696e-01,  2.02366044e+00,  1.47276384e+00,\n",
       "       -8.38140073e-01,  1.11503877e+00,  3.67393391e-01,  4.35361153e-01,\n",
       "       -8.45294575e-01, -1.16009263e+00, -3.94560995e-01,  7.78777214e-01,\n",
       "       -4.55374255e-01, -2.36920335e+00, -3.08706979e-01, -1.56074470e+00,\n",
       "       -1.30318266e+00, -1.01342535e+00, -1.02773436e+00, -1.84334750e+00,\n",
       "        2.57097978e+00,  1.28316955e+00, -6.18766854e-02,  5.97498362e-02,\n",
       "       -1.16009263e+00, -1.19112696e-01, -1.53724271e-02,  9.75525999e-01,\n",
       "        8.50322227e-01,  2.51382604e-03,  4.24629401e-01,  9.18289989e-01,\n",
       "        1.38449350e-01, -1.75749349e+00,  1.22593354e+00, -1.22806039e+00,\n",
       "       -5.12610266e-01, -2.41213035e+00, -2.08543961e-01, -1.04562061e+00,\n",
       "        4.78288161e-01,  4.96174414e-01,  1.52758353e-01,  2.82496458e+00,\n",
       "       -6.84318296e-01, -4.44642503e-01,  8.47905907e-02, -4.83992260e-01,\n",
       "        1.77799107e-01,  1.01487576e+00, -1.53570395e+00, -1.00269360e+00,\n",
       "        9.75525999e-01,  2.81539376e-01, -2.22852964e-01,  1.21877904e+00,\n",
       "       -3.48056736e-01,  2.92271128e-01,  5.53410424e-01, -4.33910752e-01,\n",
       "        1.24739705e+00, -1.29844447e-01, -6.87895547e-01, -4.12447248e-01,\n",
       "       -7.77326813e-01, -7.12936301e-01,  6.53573442e-01, -4.73260509e-01,\n",
       "        8.71785731e-01,  4.71133659e-01, -1.07423862e+00,  1.38690982e+00,\n",
       "        6.14223685e-01, -2.25830858e+00, -4.39904322e-02, -1.27814190e+00,\n",
       "        1.06254094e-01,  6.67882444e-01,  1.03991651e+00, -1.93277877e+00,\n",
       "        6.32109938e-01, -4.23179000e-01,  7.10809452e-01,  1.86983866e+00,\n",
       "        1.55146335e+00, -1.34968691e+00, -8.23831071e-01, -2.90820726e-01,\n",
       "        9.32598991e-01, -2.07229154e+00,  1.27601505e+00, -2.30007465e-01,\n",
       "        6.53573442e-01,  2.27049073e+00, -8.02367567e-01, -1.25310115e+00,\n",
       "       -1.05277511e+00,  1.92108110e-01, -5.11449335e-02, -5.77000777e-01,\n",
       "       -2.44316468e-01,  7.89508966e-01, -1.15651538e+00, -1.29844447e-01,\n",
       "       -7.77326813e-01, -4.55374255e-01,  4.67556409e-01, -1.38188217e+00,\n",
       "        1.58008136e+00, -1.24236940e+00,  4.63979158e-01,  1.57292686e+00,\n",
       "       -1.04919786e+00,  1.75178939e+00,  9.66832732e-03,  1.11861602e+00,\n",
       "       -5.94887030e-01, -1.03846611e+00,  4.92597163e-01, -2.61041790e-02,\n",
       "       -1.87196551e+00, -5.26919268e-01, -2.33584716e-01,  8.28858723e-01,\n",
       "        6.03491933e-01, -3.28497951e+00, -9.34725841e-01, -1.58462453e-01,\n",
       "       -9.20416838e-01, -1.03488886e+00,  5.97498362e-02,  7.32272956e-01,\n",
       "       -5.66269025e-01, -9.27571339e-01,  6.78614196e-01,  2.14528696e+00,\n",
       "       -8.33401892e-02, -1.94234959e-01, -7.77326813e-01, -2.37161967e-01,\n",
       "       -2.56237488e+00, -1.04562061e+00, -1.75749349e+00,  7.00077700e-01,\n",
       "       -7.02204549e-01,  6.32109938e-01,  4.92597163e-01,  3.20889133e-01,\n",
       "        1.14365678e+00, -9.76491918e-02, -7.80904063e-01,  1.34040556e+00,\n",
       "        7.40588388e-02, -7.37977056e-01, -7.05781800e-01, -2.62202721e-01,\n",
       "        1.08999802e+00,  1.02918476e+00,  1.51211359e+00, -2.96814297e-02,\n",
       "        6.67882444e-01, -5.34073769e-01,  8.18126971e-01, -4.08869997e-01,\n",
       "        2.17148864e-01,  7.17963953e-01, -8.56026327e-01,  3.78125143e-01,\n",
       "       -6.19927785e-01,  1.13292503e+00, -2.01389460e-01,  9.50485245e-01,\n",
       "        2.49585752e+00, -8.38140073e-01, -5.59114524e-01, -2.65779972e-01,\n",
       "        1.24024255e+00,  5.28369670e-01, -1.45700443e+00,  3.67393391e-01,\n",
       "        3.49507138e-01,  3.15407164e+00,  1.88530859e-01,  7.78777214e-01,\n",
       "       -1.29602815e+00,  1.65520362e+00,  1.30105581e+00, -1.43911818e+00,\n",
       "        3.13734631e-01,  1.77683014e+00,  1.35113732e+00,  4.89019913e-01,\n",
       "        9.19450919e-02,  4.21052150e-01,  6.17800935e-01, -2.44316468e-01,\n",
       "       -1.40334567e+00,  1.79471639e+00,  6.14223685e-01,  5.85605680e-01,\n",
       "       -2.18318631e+00,  1.57292686e+00, -4.80415010e-01, -3.94560995e-01,\n",
       "       -1.67879397e+00,  4.46092905e-01,  1.19731554e+00, -1.87080458e-01,\n",
       "       -4.55374255e-01,  5.28369670e-01, -1.22448314e+00, -9.16839587e-01,\n",
       "        4.67556409e-01, -1.66090772e+00,  1.24024255e+00,  3.28043634e-01,\n",
       "        6.33270869e-02, -6.90311867e-02, -1.42838643e+00,  1.34040556e+00,\n",
       "        3.31620885e-01,  2.19894572e+00, -1.95781952e+00, -5.01878514e-01,\n",
       "       -2.14383656e+00,  8.71785731e-01,  1.31536481e+00,  9.14712738e-01,\n",
       "       -6.80741045e-01,  2.26333623e+00,  1.58008136e+00, -1.51781769e+00,\n",
       "       -1.67521672e+00, -1.15651538e+00, -8.20253820e-01,  1.56335603e-01,\n",
       "        4.18635830e-02,  3.03002879e-01, -1.11958194e-01,  1.15438853e+00,\n",
       "        4.99751664e-01, -1.79925956e-01,  1.83406615e+00, -4.30333501e-01,\n",
       "        7.53736460e-01,  1.21520179e+00, -1.72771455e-01,  3.85279644e-01,\n",
       "        2.39211725e+00,  1.08284352e+00,  1.16512028e+00, -1.48919969e+00,\n",
       "       -1.17440163e+00, -1.15535445e-01,  2.30626324e+00,  6.89345948e-01,\n",
       "        3.96011396e-01, -5.16187516e-01,  1.57650411e+00,  7.00077700e-01,\n",
       "        2.45293051e+00, -3.26593232e-01,  1.39406432e+00, -2.96814297e-02,\n",
       "        2.52921371e-01, -1.03846611e+00, -2.29765833e+00, -1.65616954e-01,\n",
       "       -1.52497220e+00, -5.16187516e-01, -3.30170483e-01, -1.66090772e+00,\n",
       "       -5.34073769e-01,  1.40837333e+00, -5.80578028e-01,  1.16154303e+00,\n",
       "        1.97357893e+00,  6.75036946e-01, -1.33180066e+00, -2.58625470e-01,\n",
       "        2.29195423e+00,  5.67719427e-01,  1.22951079e+00, -2.87359569e+00,\n",
       "       -1.32106891e+00, -1.00269360e+00,  7.43004708e-01, -5.80578028e-01,\n",
       "       -9.16839587e-01,  9.03980986e-01, -1.04562061e+00, -2.12121212e-01,\n",
       "       -1.44153450e-01,  7.14386703e-01, -9.04946905e-02,  6.49996191e-01,\n",
       "       -2.55048220e-01,  1.27601505e+00, -3.05129729e-01, -1.04562061e+00,\n",
       "        2.38612368e-01, -7.20090802e-01, -1.32106891e+00,  2.60075872e-01,\n",
       "       -1.49635419e+00,  1.14007953e+00,  9.86257751e-01,  3.06580130e-01,\n",
       "       -8.05944818e-01, -2.19275713e-01, -7.23668053e-01,  1.01845301e+00,\n",
       "       -9.13262337e-01,  2.45766869e-01, -1.52497220e+00, -1.07781587e+00,\n",
       "       -9.34725841e-01, -8.73912580e-01, -5.11449335e-02, -6.18766854e-02,\n",
       "       -5.11449335e-02,  8.25281472e-01, -9.40719411e-02,  1.68228286e-02,\n",
       "        8.53899477e-01, -8.66758079e-01,  1.78756189e+00, -2.76511724e-01,\n",
       "        1.55146335e+00,  1.54073160e+00,  1.82333440e+00,  4.46092905e-01,\n",
       "        5.64142176e-01, -8.27408322e-01, -2.04725079e+00,  3.47090818e-02,\n",
       "        1.23666530e+00,  9.57639746e-01, -6.62854792e-01,  4.18635830e-02,\n",
       "        6.89345948e-01,  4.67556409e-01, -5.41228271e-01, -4.33910752e-01,\n",
       "       -5.12610266e-01,  2.19894572e+00,  1.25812880e+00, -2.59099289e+00,\n",
       "        1.47991834e+00,  5.39101421e-01, -5.55537273e-01,  1.53715435e+00,\n",
       "       -1.40692292e+00, -9.91961851e-01, -4.83992260e-01, -2.40739217e-01,\n",
       "        1.84953608e-01, -3.01552478e-01,  4.35361153e-01,  4.18635830e-02,\n",
       "       -1.67879397e+00,  8.25281472e-01,  1.00414400e+00, -1.01226442e-01,\n",
       "       -1.81472950e+00,  3.22919390e+00, -2.33584716e-01,  8.36013224e-01,\n",
       "        9.68371498e-01, -1.11358837e+00,  1.93780642e+00, -7.37977056e-01,\n",
       "       -9.45457593e-01, -5.80578028e-01, -6.70009294e-01, -7.59440559e-01,\n",
       "        1.72674863e+00, -1.25310115e+00,  6.32109938e-01, -4.01715496e-01,\n",
       "        1.84122065e+00, -4.58951506e-01, -3.01552478e-01, -3.32586803e-02,\n",
       "        3.35198135e-01, -9.76491918e-02, -1.00269360e+00,  2.52447552e+00,\n",
       "        1.39048707e+00, -2.04725079e+00, -8.98953334e-01,  9.32598991e-01,\n",
       "        1.38449350e-01, -5.84155278e-01, -4.55374255e-01,  8.28858723e-01,\n",
       "       -2.51470969e-01, -1.29602815e+00,  6.96500449e-01, -1.11001112e+00,\n",
       "        6.07069184e-01, -2.08543961e-01,  1.84953608e-01,  1.44772308e+00,\n",
       "       -1.69194204e-01,  1.73390313e+00,  2.18463671e+00,  7.03654951e-01,\n",
       "        2.63653122e-01, -3.58788488e-01, -5.87732529e-01,  6.33270869e-02,\n",
       "        1.89130216e+00,  1.81376358e-01,  1.54073160e+00, -3.32586803e-02,\n",
       "        1.84953608e-01, -1.32464616e+00, -3.48056736e-01,  9.61216997e-01,\n",
       "        2.27880616e-01,  2.16675046e+00, -3.30170483e-01,  1.03276201e+00,\n",
       "        4.06743148e-01, -1.20659689e+00,  2.70807624e-01,  8.32435974e-01,\n",
       "       -1.85765650e+00,  2.73553331e+00,  1.11861602e+00,  1.28316955e+00,\n",
       "       -8.02367567e-01, -2.30007465e-01, -6.44968539e-01,  1.09831345e-01,\n",
       "        2.28479973e+00,  2.56498621e-01,  6.67882444e-01,  1.38449350e-01,\n",
       "       -7.63017810e-01, -1.01226442e-01,  1.59912854e-01, -1.22448314e+00,\n",
       "        1.49181102e-01, -9.04946905e-02, -9.88384600e-01, -5.11449335e-02,\n",
       "       -1.52497220e+00,  5.74873928e-01, -6.23505035e-01,  9.29021741e-01,\n",
       "       -1.31391441e+00,  1.13408596e-01, -5.12610266e-01, -1.15535445e-01,\n",
       "        1.36902357e+00,  8.50322227e-01, -6.09196033e-01, -1.90657708e-01,\n",
       "       -1.42838643e+00, -1.38188217e+00, -2.14383656e+00, -3.15861481e-01,\n",
       "        7.00077700e-01,  1.74221857e-01, -9.81230099e-01, -1.69310298e+00,\n",
       "       -3.05129729e-01,  1.26528330e+00,  4.42515654e-01, -3.41018328e+00,\n",
       "       -1.56789920e+00,  1.61227661e+00,  3.81702393e-01, -7.84481314e-01,\n",
       "       -1.47489069e+00, -7.80904063e-01,  1.15438853e+00, -1.47489069e+00,\n",
       "       -4.19601749e-01, -4.73260509e-01,  5.10483416e-01, -4.64067523e-03,\n",
       "       -4.51797005e-01, -1.31033716e+00,  1.66235812e+00,  4.06743148e-01,\n",
       "       -4.48219754e-01, -1.72529823e+00, -5.44805521e-01,  1.39048707e+00,\n",
       "        5.67719427e-01, -5.09033015e-01, -1.01700261e+00, -1.40692292e+00,\n",
       "       -1.06708411e+00, -5.73423526e-01,  4.06743148e-01, -1.57863096e+00,\n",
       "       -1.31749166e+00, -1.04803693e-01,  4.54408337e-02, -2.85570943e+00,\n",
       "       -1.46058168e+00, -1.91489251e+00,  8.78940232e-01, -2.75912367e+00,\n",
       "        9.93412252e-01, -1.16724713e+00,  1.42625958e+00,  1.65520362e+00,\n",
       "        9.90995932e-02, -3.33747734e-01, -4.87569511e-01,  2.51732102e+00,\n",
       "       -2.58625470e-01, -7.27245304e-01, -1.58578546e+00,  5.67719427e-01,\n",
       "       -1.00627085e+00, -1.58936271e+00, -8.63180828e-01, -1.62039703e-01,\n",
       "        1.56934960e+00,  6.39264439e-01,  3.67393391e-01, -9.13262337e-01,\n",
       "       -4.33910752e-01,  5.61725856e-02,  1.41552783e+00,  2.56382528e+00,\n",
       "       -5.23342017e-01,  1.81617990e+00, -1.67521672e+00, -1.08497037e+00,\n",
       "       -1.22448314e+00,  9.66832732e-03,  6.14223685e-01,  1.08999802e+00,\n",
       "        8.53899477e-01,  1.64447187e+00, -5.59114524e-01, -5.98464281e-01,\n",
       "       -1.08139312e+00,  4.56824657e-01,  1.00772125e+00, -1.02057986e+00,\n",
       "        1.38333257e+00,  1.16512028e+00,  6.67882444e-01, -8.69174399e-02,\n",
       "        1.65520362e+00, -1.08497037e+00,  2.15244146e+00, -1.09927937e+00,\n",
       "        1.35471457e+00,  1.22593354e+00, -1.96139677e+00,  1.17942929e+00,\n",
       "        5.53410424e-01, -3.30170483e-01, -1.16366988e+00,  1.92108110e-01,\n",
       "       -1.24594665e+00, -5.26919268e-01,  2.88693877e-01,  7.00077700e-01,\n",
       "        8.39590475e-01, -5.34073769e-01,  2.47081676e+00,  7.04815881e-02,\n",
       "       -3.83829243e-01,  5.28369670e-01,  1.11861602e+00, -2.37161967e-01,\n",
       "       -3.73097491e-01,  1.40121882e+00,  1.84953608e-01,  6.57150692e-01,\n",
       "       -5.66269025e-01,  1.21877904e+00,  1.05064826e+00, -8.63180828e-01,\n",
       "       -3.44479486e-01,  1.00414400e+00,  4.10320399e-01, -2.26430215e-01,\n",
       "        1.31894206e+00,  3.31620885e-01,  9.14712738e-01, -1.62513521e+00,\n",
       "       -1.29844447e-01, -1.04204336e+00,  2.29910873e+00,  2.92271128e-01,\n",
       "       -9.70498347e-01,  7.14386703e-01,  1.39764157e+00,  5.03328915e-01,\n",
       "       -7.20090802e-01, -5.62691774e-01,  3.56661639e-01,  9.07558237e-01,\n",
       "        6.96500449e-01, -1.33180066e+00,  5.61725856e-02, -7.37977056e-01,\n",
       "       -1.38188217e+00,  9.96989503e-01, -5.01878514e-01,  8.68208480e-01,\n",
       "        1.27959230e+00,  2.92271128e-01, -1.29844447e-01, -1.29844447e-01,\n",
       "       -1.72771455e-01, -8.20253820e-01, -1.04803693e-01,  1.79471639e+00,\n",
       "        1.01487576e+00, -3.98138245e-01,  1.59081311e+00,  2.24303365e-01,\n",
       "        3.88856895e-01, -1.47489069e+00, -3.00953121e+00,  2.56498621e-01,\n",
       "       -4.19601749e-01, -1.42838643e+00, -2.53017962e+00,  6.60727943e-01,\n",
       "       -5.30496519e-01,  9.66832732e-03,  1.32967381e+00, -4.62528757e-01,\n",
       "        2.49344120e-01,  2.24303365e-01, -1.19586514e+00, -9.91961851e-01,\n",
       "       -1.40334567e+00,  5.67719427e-01,  4.56824657e-01,  3.82863324e-02,\n",
       "       -1.61082621e+00, -1.22090589e+00,  9.14712738e-01,  1.10788427e+00,\n",
       "       -8.59603577e-01,  3.78125143e-01, -2.01389460e-01, -6.54539360e-02,\n",
       "       -2.55164313e+00, -2.25269284e-02,  7.00077700e-01, -1.44627268e+00,\n",
       "        4.85442662e-01,  4.71133659e-01,  1.30463306e+00, -3.65942989e-01,\n",
       "       -1.06342459e-03, -3.05129729e-01, -8.95376084e-01, -4.64067523e-03,\n",
       "       -9.06107836e-01, -5.11449335e-02, -7.09359051e-01,  3.66204123e+00,\n",
       "        8.47905907e-02, -1.21375139e+00, -9.16839587e-01,  2.17148864e-01,\n",
       "        6.14223685e-01,  3.45929887e-01, -3.44479486e-01,  1.07926627e+00,\n",
       "       -2.55048220e-01,  1.42026601e-01,  2.51382604e-03,  6.57150692e-01,\n",
       "       -9.23994089e-01,  4.42515654e-01,  1.14007953e+00,  9.96989503e-01,\n",
       "       -1.16009263e+00,  1.74221857e-01, -1.16366988e+00, -8.59603577e-01,\n",
       "        3.85279644e-01,  5.61725856e-02, -7.63017810e-01, -2.11164130e+00,\n",
       "       -4.51797005e-01,  1.75894389e+00, -4.39904322e-02,  3.70970642e-01,\n",
       "        3.60238890e-01, -2.15456831e+00, -1.16009263e+00, -8.84644332e-01,\n",
       "       -9.20416838e-01,  1.26886055e+00,  1.91276567e+00, -1.60009446e+00,\n",
       "        3.74547892e-01, -1.23163764e+00,  3.08252662e+00,  6.09107668e-03,\n",
       "        1.81975715e+00,  4.46092905e-01, -2.51470969e-01, -2.15814556e+00,\n",
       "        5.71296677e-01,  2.19179122e+00,  6.57150692e-01,  4.17474900e-01,\n",
       "        7.03654951e-01,  1.59912854e-01, -1.67521672e+00, -2.33584716e-01,\n",
       "        3.47090818e-02, -2.61245639e+00,  5.17637918e-01,  1.92108110e-01,\n",
       "        8.25281472e-01, -1.14220638e+00, -1.06708411e+00, -1.36041867e+00,\n",
       "        8.61053979e-01,  2.06417112e-01,  9.14712738e-01,  1.18300654e+00,\n",
       "        2.88693877e-01, -5.59114524e-01,  5.14060667e-01,  5.78451178e-01,\n",
       "       -7.34399805e-01, -6.90311867e-02, -7.27245304e-01, -9.52612094e-01,\n",
       "        1.06495726e+00, -4.55374255e-01, -1.73245273e+00, -6.98627299e-01,\n",
       "        6.35687189e-01, -9.99116352e-01,  5.31946920e-01,  3.88856895e-01,\n",
       "        6.24955437e-01,  1.34040556e+00,  6.82191447e-01,  5.17637918e-01,\n",
       "       -1.89496778e-02,  1.07926627e+00, -1.40334567e+00, -1.82546125e+00,\n",
       "        3.01098161e+00,  2.63653122e-01,  3.17311882e-01, -1.69310298e+00,\n",
       "        7.68045462e-01,  5.49833173e-01, -5.87732529e-01,  3.31620885e-01,\n",
       "       -1.82546125e+00,  5.53410424e-01, -4.94724012e-01, -8.41717324e-01,\n",
       "        1.70528513e+00,  5.97498362e-02,  2.17148864e-01, -9.56189344e-01,\n",
       "        8.78940232e-01,  1.68228286e-02, -2.51470969e-01,  6.24955437e-01,\n",
       "        5.92760181e-01,  1.34756007e+00, -2.58625470e-01,  3.74547892e-01,\n",
       "        9.79103250e-01, -9.84807350e-01, -2.23684507e+00, -1.96497402e+00,\n",
       "       -5.41228271e-01,  1.17585203e+00, -9.40719411e-02,  5.96337432e-01,\n",
       "        9.21867240e-01, -4.33910752e-01,  3.78125143e-01, -3.94560995e-01,\n",
       "       -9.70498347e-01,  1.76252114e+00,  1.91634292e+00,  3.24466383e-01,\n",
       "       -3.51633987e-01,  1.62300836e+00,  1.02676844e-01, -1.94351052e+00,\n",
       "       -3.05129729e-01,  4.46092905e-01, -1.58462453e-01,  3.06580130e-01,\n",
       "        1.07568902e+00,  4.53247406e-01, -1.11958194e-01, -1.46415893e+00,\n",
       "       -4.12447248e-01, -1.09212487e+00,  1.51569085e+00, -8.33401892e-02,\n",
       "        3.35797492e+00, -4.16024498e-01,  1.67067355e-01, -1.11958194e-01,\n",
       "       -2.29765833e+00,  3.78125143e-01,  1.46560934e+00,  9.75525999e-01,\n",
       "       -3.12284230e-01,  7.25118455e-01, -8.63180828e-01, -2.01863278e+00,\n",
       "        7.50159209e-01,  7.68045462e-01, -5.34073769e-01,  3.10157381e-01,\n",
       "       -1.89496778e-02, -2.73766016e+00,  3.96011396e-01,  1.22235629e+00])"
      ]
     },
     "execution_count": 22,
     "metadata": {},
     "output_type": "execute_result"
    }
   ],
   "source": [
    "repetitions = 1000\n",
    "statistics = make_array()\n",
    "for i in np.arange(repetitions):\n",
    "    permuted_table = babies_maternal.with_column(\"Permuted\", babies_weights_smoking.sample(with_replacement=False).column(1))\n",
    "    statistics = np.append(statistics,test_statistic(permuted_table, \"Maternal Smoker\", \"Permuted\"))\n",
    "statistics"
   ]
  },
  {
   "cell_type": "code",
   "execution_count": 23,
   "metadata": {},
   "outputs": [
    {
     "data": {
      "image/png": "[encoded data removed]",
      "text/plain": [
       "<Figure size 432x288 with 1 Axes>"
      ]
     },
     "metadata": {
      "needs_background": "light"
     },
     "output_type": "display_data"
    }
   ],
   "source": [
    "Table().with_column('Statistic', statistics).hist()"
   ]
  },
  {
   "cell_type": "code",
   "execution_count": 17,
   "metadata": {},
   "outputs": [
    {
     "data": {
      "text/plain": [
       "-9.266142572024918"
      ]
     },
     "execution_count": 17,
     "metadata": {},
     "output_type": "execute_result"
    }
   ],
   "source": [
    "empirical_value = test_statistic(babies, \"Maternal Smoker\", \"Birth Weight\")\n",
    "empirical_value"
   ]
  },
  {
   "cell_type": "code",
   "execution_count": 19,
   "metadata": {},
   "outputs": [
    {
     "data": {
      "text/plain": [
       "0.0"
      ]
     },
     "execution_count": 19,
     "metadata": {},
     "output_type": "execute_result"
    }
   ],
   "source": [
    "sum(statistics <= empirical_value)/repetitions"
   ]
  },
  {
   "cell_type": "code",
   "execution_count": null,
   "metadata": {},
   "outputs": [],
   "source": []
  }
 ],
 "metadata": {
  "kernelspec": {
   "display_name": "Python 3",
   "language": "python",
   "name": "python3"
  },
  "language_info": {
   "codemirror_mode": {
    "name": "ipython",
    "version": 3
   },
   "file_extension": ".py",
   "mimetype": "text/x-python",
   "name": "python",
   "nbconvert_exporter": "python",
   "pygments_lexer": "ipython3",
   "version": "3.6.5"
  }
 },
 "nbformat": 4,
 "nbformat_minor": 2
}
