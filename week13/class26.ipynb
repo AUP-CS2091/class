{
 "cells": [
  {
   "cell_type": "code",
   "execution_count": 1,
   "metadata": {},
   "outputs": [],
   "source": [
    "# HIDDEN\n",
    "\n",
    "from datascience import *\n",
    "%matplotlib inline\n",
    "import matplotlib.pyplot as plots\n",
    "plots.style.use('fivethirtyeight')\n",
    "import numpy as np"
   ]
  },
  {
   "cell_type": "markdown",
   "metadata": {},
   "source": [
    "# Ethics of Data Science\n",
    "\n",
    "https://www.washingtonpost.com/technology/2018/11/16/wanted-perfect-babysitter-must-pass-ai-scan-respect-attitude/?noredirect=on&utm_term=.fab4f6245001"
   ]
  },
  {
   "cell_type": "markdown",
   "metadata": {},
   "source": [
    "## License plates"
   ]
  },
  {
   "cell_type": "markdown",
   "metadata": {},
   "source": [
    "We're going to look at some data collected by the Oakland Police Department. They have automated license plate readers on their police cars, and they've built up a database of license plates that they've seen -- and where and when they saw each one."
   ]
  },
  {
   "cell_type": "markdown",
   "metadata": {},
   "source": [
    "## Data collection"
   ]
  },
  {
   "cell_type": "markdown",
   "metadata": {},
   "source": [
    "First, we'll gather the data.  It turns out the data is publicly available on the Oakland public records site. Below is a CSV file combining some of this data."
   ]
  },
  {
   "cell_type": "code",
   "execution_count": 2,
   "metadata": {},
   "outputs": [],
   "source": [
    "lprs = Table.read_table('https://raw.githubusercontent.com/AUP-CS2091/class/master/week13/all-lprs.csv.gz', compression='gzip', sep=',')"
   ]
  },
  {
   "cell_type": "code",
   "execution_count": 3,
   "metadata": {},
   "outputs": [
    {
     "data": {
      "text/html": [
       "<table border=\"1\" class=\"dataframe\">\n",
       "    <thead>\n",
       "        <tr>\n",
       "            <th>red_VRM</th> <th>red_Timestamp</th> <th>Location</th>\n",
       "        </tr>\n",
       "    </thead>\n",
       "    <tbody>\n",
       "        <tr>\n",
       "            <td>1275226</td> <td>01/19/2011 02:06:00 AM</td> <td>(37.798304999999999, -122.27574799999999)</td>\n",
       "        </tr>\n",
       "        <tr>\n",
       "            <td>27529C </td> <td>01/19/2011 02:06:00 AM</td> <td>(37.798304999999999, -122.27574799999999)</td>\n",
       "        </tr>\n",
       "        <tr>\n",
       "            <td>1158423</td> <td>01/19/2011 02:06:00 AM</td> <td>(37.798304999999999, -122.27574799999999)</td>\n",
       "        </tr>\n",
       "        <tr>\n",
       "            <td>1273718</td> <td>01/19/2011 02:06:00 AM</td> <td>(37.798304999999999, -122.27574799999999)</td>\n",
       "        </tr>\n",
       "        <tr>\n",
       "            <td>1077682</td> <td>01/19/2011 02:06:00 AM</td> <td>(37.798304999999999, -122.27574799999999)</td>\n",
       "        </tr>\n",
       "        <tr>\n",
       "            <td>1214195</td> <td>01/19/2011 02:06:00 AM</td> <td>(37.798281000000003, -122.27575299999999)</td>\n",
       "        </tr>\n",
       "        <tr>\n",
       "            <td>1062420</td> <td>01/19/2011 02:06:00 AM</td> <td>(37.79833, -122.27574300000001)          </td>\n",
       "        </tr>\n",
       "        <tr>\n",
       "            <td>1319726</td> <td>01/19/2011 02:05:00 AM</td> <td>(37.798475000000003, -122.27571500000001)</td>\n",
       "        </tr>\n",
       "        <tr>\n",
       "            <td>1214196</td> <td>01/19/2011 02:05:00 AM</td> <td>(37.798499999999997, -122.27571)         </td>\n",
       "        </tr>\n",
       "        <tr>\n",
       "            <td>75227  </td> <td>01/19/2011 02:05:00 AM</td> <td>(37.798596000000003, -122.27569)         </td>\n",
       "        </tr>\n",
       "    </tbody>\n",
       "</table>\n",
       "<p>... (2742091 rows omitted)</p>"
      ],
      "text/plain": [
       "red_VRM | red_Timestamp          | Location\n",
       "1275226 | 01/19/2011 02:06:00 AM | (37.798304999999999, -122.27574799999999)\n",
       "27529C  | 01/19/2011 02:06:00 AM | (37.798304999999999, -122.27574799999999)\n",
       "1158423 | 01/19/2011 02:06:00 AM | (37.798304999999999, -122.27574799999999)\n",
       "1273718 | 01/19/2011 02:06:00 AM | (37.798304999999999, -122.27574799999999)\n",
       "1077682 | 01/19/2011 02:06:00 AM | (37.798304999999999, -122.27574799999999)\n",
       "1214195 | 01/19/2011 02:06:00 AM | (37.798281000000003, -122.27575299999999)\n",
       "1062420 | 01/19/2011 02:06:00 AM | (37.79833, -122.27574300000001)\n",
       "1319726 | 01/19/2011 02:05:00 AM | (37.798475000000003, -122.27571500000001)\n",
       "1214196 | 01/19/2011 02:05:00 AM | (37.798499999999997, -122.27571)\n",
       "75227   | 01/19/2011 02:05:00 AM | (37.798596000000003, -122.27569)\n",
       "... (2742091 rows omitted)"
      ]
     },
     "execution_count": 3,
     "metadata": {},
     "output_type": "execute_result"
    }
   ],
   "source": [
    "lprs"
   ]
  },
  {
   "cell_type": "markdown",
   "metadata": {},
   "source": [
    "Let's start by renaming some columns, and then take a look at it."
   ]
  },
  {
   "cell_type": "code",
   "execution_count": 4,
   "metadata": {},
   "outputs": [
    {
     "data": {
      "text/html": [
       "<table border=\"1\" class=\"dataframe\">\n",
       "    <thead>\n",
       "        <tr>\n",
       "            <th>Plate</th> <th>Timestamp</th> <th>Location</th>\n",
       "        </tr>\n",
       "    </thead>\n",
       "    <tbody>\n",
       "        <tr>\n",
       "            <td>1275226</td> <td>01/19/2011 02:06:00 AM</td> <td>(37.798304999999999, -122.27574799999999)</td>\n",
       "        </tr>\n",
       "        <tr>\n",
       "            <td>27529C </td> <td>01/19/2011 02:06:00 AM</td> <td>(37.798304999999999, -122.27574799999999)</td>\n",
       "        </tr>\n",
       "        <tr>\n",
       "            <td>1158423</td> <td>01/19/2011 02:06:00 AM</td> <td>(37.798304999999999, -122.27574799999999)</td>\n",
       "        </tr>\n",
       "        <tr>\n",
       "            <td>1273718</td> <td>01/19/2011 02:06:00 AM</td> <td>(37.798304999999999, -122.27574799999999)</td>\n",
       "        </tr>\n",
       "        <tr>\n",
       "            <td>1077682</td> <td>01/19/2011 02:06:00 AM</td> <td>(37.798304999999999, -122.27574799999999)</td>\n",
       "        </tr>\n",
       "        <tr>\n",
       "            <td>1214195</td> <td>01/19/2011 02:06:00 AM</td> <td>(37.798281000000003, -122.27575299999999)</td>\n",
       "        </tr>\n",
       "        <tr>\n",
       "            <td>1062420</td> <td>01/19/2011 02:06:00 AM</td> <td>(37.79833, -122.27574300000001)          </td>\n",
       "        </tr>\n",
       "        <tr>\n",
       "            <td>1319726</td> <td>01/19/2011 02:05:00 AM</td> <td>(37.798475000000003, -122.27571500000001)</td>\n",
       "        </tr>\n",
       "        <tr>\n",
       "            <td>1214196</td> <td>01/19/2011 02:05:00 AM</td> <td>(37.798499999999997, -122.27571)         </td>\n",
       "        </tr>\n",
       "        <tr>\n",
       "            <td>75227  </td> <td>01/19/2011 02:05:00 AM</td> <td>(37.798596000000003, -122.27569)         </td>\n",
       "        </tr>\n",
       "    </tbody>\n",
       "</table>\n",
       "<p>... (2742091 rows omitted)</p>"
      ],
      "text/plain": [
       "Plate   | Timestamp              | Location\n",
       "1275226 | 01/19/2011 02:06:00 AM | (37.798304999999999, -122.27574799999999)\n",
       "27529C  | 01/19/2011 02:06:00 AM | (37.798304999999999, -122.27574799999999)\n",
       "1158423 | 01/19/2011 02:06:00 AM | (37.798304999999999, -122.27574799999999)\n",
       "1273718 | 01/19/2011 02:06:00 AM | (37.798304999999999, -122.27574799999999)\n",
       "1077682 | 01/19/2011 02:06:00 AM | (37.798304999999999, -122.27574799999999)\n",
       "1214195 | 01/19/2011 02:06:00 AM | (37.798281000000003, -122.27575299999999)\n",
       "1062420 | 01/19/2011 02:06:00 AM | (37.79833, -122.27574300000001)\n",
       "1319726 | 01/19/2011 02:05:00 AM | (37.798475000000003, -122.27571500000001)\n",
       "1214196 | 01/19/2011 02:05:00 AM | (37.798499999999997, -122.27571)\n",
       "75227   | 01/19/2011 02:05:00 AM | (37.798596000000003, -122.27569)\n",
       "... (2742091 rows omitted)"
      ]
     },
     "execution_count": 4,
     "metadata": {},
     "output_type": "execute_result"
    }
   ],
   "source": [
    "lprs.relabel('red_VRM', 'Plate')\n",
    "lprs.relabel('red_Timestamp', 'Timestamp')\n",
    "lprs"
   ]
  },
  {
   "cell_type": "markdown",
   "metadata": {},
   "source": [
    "Phew, that's a lot of data: we can see about 2.7 million license plate reads here.\n",
    "\n",
    "Let's start by seeing what can be learned about someone, using this data -- assuming you know their license plate."
   ]
  },
  {
   "cell_type": "markdown",
   "metadata": {},
   "source": [
    "## Searching for Individuals"
   ]
  },
  {
   "cell_type": "markdown",
   "metadata": {},
   "source": [
    "As a warmup, we'll take a look at ex-Mayor Jean Quan's car, and where it has been seen.  Her license plate number is 6FCH845.  (How did I learn that?  Turns out she was in the news for getting $1000 of parking tickets, and [the news article](http://www.sfgate.com/bayarea/matier-ross/article/Jean-Quan-Oakland-s-new-mayor-gets-car-booted-3164530.php) included a picture of her car, with the license plate visible.  You'd be amazed by what's out there on the Internet...)"
   ]
  },
  {
   "cell_type": "code",
   "execution_count": 5,
   "metadata": {},
   "outputs": [
    {
     "data": {
      "text/html": [
       "<table border=\"1\" class=\"dataframe\">\n",
       "    <thead>\n",
       "        <tr>\n",
       "            <th>Plate</th> <th>Timestamp</th> <th>Location</th>\n",
       "        </tr>\n",
       "    </thead>\n",
       "    <tbody>\n",
       "        <tr>\n",
       "            <td>6FCH845</td> <td>11/01/2012 09:04:00 AM</td> <td>(37.79871, -122.276221) </td>\n",
       "        </tr>\n",
       "        <tr>\n",
       "            <td>6FCH845</td> <td>10/24/2012 11:15:00 AM</td> <td>(37.799695, -122.274868)</td>\n",
       "        </tr>\n",
       "        <tr>\n",
       "            <td>6FCH845</td> <td>10/24/2012 11:01:00 AM</td> <td>(37.799693, -122.274806)</td>\n",
       "        </tr>\n",
       "        <tr>\n",
       "            <td>6FCH845</td> <td>10/24/2012 10:20:00 AM</td> <td>(37.799735, -122.274893)</td>\n",
       "        </tr>\n",
       "        <tr>\n",
       "            <td>6FCH845</td> <td>05/08/2014 07:30:00 PM</td> <td>(37.797558, -122.26935) </td>\n",
       "        </tr>\n",
       "        <tr>\n",
       "            <td>6FCH845</td> <td>12/31/2013 10:09:00 AM</td> <td>(37.807556, -122.278485)</td>\n",
       "        </tr>\n",
       "    </tbody>\n",
       "</table>"
      ],
      "text/plain": [
       "Plate   | Timestamp              | Location\n",
       "6FCH845 | 11/01/2012 09:04:00 AM | (37.79871, -122.276221)\n",
       "6FCH845 | 10/24/2012 11:15:00 AM | (37.799695, -122.274868)\n",
       "6FCH845 | 10/24/2012 11:01:00 AM | (37.799693, -122.274806)\n",
       "6FCH845 | 10/24/2012 10:20:00 AM | (37.799735, -122.274893)\n",
       "6FCH845 | 05/08/2014 07:30:00 PM | (37.797558, -122.26935)\n",
       "6FCH845 | 12/31/2013 10:09:00 AM | (37.807556, -122.278485)"
      ]
     },
     "execution_count": 5,
     "metadata": {},
     "output_type": "execute_result"
    }
   ],
   "source": [
    "lprs.where('Plate', '6FCH845')"
   ]
  },
  {
   "cell_type": "markdown",
   "metadata": {},
   "source": [
    "OK, so her car shows up 6 times in this data set.  However, it's hard to make sense of those coordinates.  I don't know about you, but I can't read GPS so well.\n",
    "\n",
    "So, let's work out a way to show where her car has been seen on a map.  We'll need to extract the latitude and longitude, as the data isn't quite in the format that the mapping software expects: the mapping software expects the latitude to be in one column and the longitude in another.  Let's write some Python code to do that, by splitting the Location string into two pieces: the stuff before the comma (the latitude) and the stuff after (the longitude)."
   ]
  },
  {
   "cell_type": "code",
   "execution_count": 6,
   "metadata": {},
   "outputs": [
    {
     "data": {
      "text/plain": [
       "'37.797558'"
      ]
     },
     "execution_count": 6,
     "metadata": {},
     "output_type": "execute_result"
    }
   ],
   "source": [
    "'(37.797558, -122.26935)'.split(',')[0].replace(\"(\",\"\")"
   ]
  },
  {
   "cell_type": "code",
   "execution_count": 13,
   "metadata": {},
   "outputs": [],
   "source": [
    "# Implement the methods get_latitude and get_longitude which get the location an return a float.\n",
    "# You might need to use the string methods split and replace.\n",
    "# To implement ...\n",
    "def get_latitude(location):\n",
    "    return float(location.split(',')[0].replace(\"(\",\"\"))\n",
    "def get_longitude(location):\n",
    "    return float(location.split(',')[1].replace(\")\",\"\"))"
   ]
  },
  {
   "cell_type": "markdown",
   "metadata": {},
   "source": [
    "Let's test it to make sure it works correctly."
   ]
  },
  {
   "cell_type": "code",
   "execution_count": 14,
   "metadata": {},
   "outputs": [
    {
     "data": {
      "text/plain": [
       "37.797558"
      ]
     },
     "execution_count": 14,
     "metadata": {},
     "output_type": "execute_result"
    }
   ],
   "source": [
    "get_latitude('(37.797558, -122.26935)')"
   ]
  },
  {
   "cell_type": "code",
   "execution_count": 15,
   "metadata": {},
   "outputs": [
    {
     "data": {
      "text/plain": [
       "-122.26935"
      ]
     },
     "execution_count": 15,
     "metadata": {},
     "output_type": "execute_result"
    }
   ],
   "source": [
    "get_longitude('(37.797558, -122.26935)')"
   ]
  },
  {
   "cell_type": "markdown",
   "metadata": {},
   "source": [
    "Good, now we're ready to add these as extra columns to the table."
   ]
  },
  {
   "cell_type": "code",
   "execution_count": 16,
   "metadata": {},
   "outputs": [
    {
     "data": {
      "text/html": [
       "<table border=\"1\" class=\"dataframe\">\n",
       "    <thead>\n",
       "        <tr>\n",
       "            <th>Plate</th> <th>Timestamp</th> <th>Location</th> <th>Latitude</th> <th>Longitude</th>\n",
       "        </tr>\n",
       "    </thead>\n",
       "    <tbody>\n",
       "        <tr>\n",
       "            <td>1275226</td> <td>01/19/2011 02:06:00 AM</td> <td>(37.798304999999999, -122.27574799999999)</td> <td>37.7983 </td> <td>-122.276 </td>\n",
       "        </tr>\n",
       "        <tr>\n",
       "            <td>27529C </td> <td>01/19/2011 02:06:00 AM</td> <td>(37.798304999999999, -122.27574799999999)</td> <td>37.7983 </td> <td>-122.276 </td>\n",
       "        </tr>\n",
       "        <tr>\n",
       "            <td>1158423</td> <td>01/19/2011 02:06:00 AM</td> <td>(37.798304999999999, -122.27574799999999)</td> <td>37.7983 </td> <td>-122.276 </td>\n",
       "        </tr>\n",
       "        <tr>\n",
       "            <td>1273718</td> <td>01/19/2011 02:06:00 AM</td> <td>(37.798304999999999, -122.27574799999999)</td> <td>37.7983 </td> <td>-122.276 </td>\n",
       "        </tr>\n",
       "        <tr>\n",
       "            <td>1077682</td> <td>01/19/2011 02:06:00 AM</td> <td>(37.798304999999999, -122.27574799999999)</td> <td>37.7983 </td> <td>-122.276 </td>\n",
       "        </tr>\n",
       "        <tr>\n",
       "            <td>1214195</td> <td>01/19/2011 02:06:00 AM</td> <td>(37.798281000000003, -122.27575299999999)</td> <td>37.7983 </td> <td>-122.276 </td>\n",
       "        </tr>\n",
       "        <tr>\n",
       "            <td>1062420</td> <td>01/19/2011 02:06:00 AM</td> <td>(37.79833, -122.27574300000001)          </td> <td>37.7983 </td> <td>-122.276 </td>\n",
       "        </tr>\n",
       "        <tr>\n",
       "            <td>1319726</td> <td>01/19/2011 02:05:00 AM</td> <td>(37.798475000000003, -122.27571500000001)</td> <td>37.7985 </td> <td>-122.276 </td>\n",
       "        </tr>\n",
       "        <tr>\n",
       "            <td>1214196</td> <td>01/19/2011 02:05:00 AM</td> <td>(37.798499999999997, -122.27571)         </td> <td>37.7985 </td> <td>-122.276 </td>\n",
       "        </tr>\n",
       "        <tr>\n",
       "            <td>75227  </td> <td>01/19/2011 02:05:00 AM</td> <td>(37.798596000000003, -122.27569)         </td> <td>37.7986 </td> <td>-122.276 </td>\n",
       "        </tr>\n",
       "    </tbody>\n",
       "</table>\n",
       "<p>... (2742091 rows omitted)</p>"
      ],
      "text/plain": [
       "Plate   | Timestamp              | Location                                  | Latitude | Longitude\n",
       "1275226 | 01/19/2011 02:06:00 AM | (37.798304999999999, -122.27574799999999) | 37.7983  | -122.276\n",
       "27529C  | 01/19/2011 02:06:00 AM | (37.798304999999999, -122.27574799999999) | 37.7983  | -122.276\n",
       "1158423 | 01/19/2011 02:06:00 AM | (37.798304999999999, -122.27574799999999) | 37.7983  | -122.276\n",
       "1273718 | 01/19/2011 02:06:00 AM | (37.798304999999999, -122.27574799999999) | 37.7983  | -122.276\n",
       "1077682 | 01/19/2011 02:06:00 AM | (37.798304999999999, -122.27574799999999) | 37.7983  | -122.276\n",
       "1214195 | 01/19/2011 02:06:00 AM | (37.798281000000003, -122.27575299999999) | 37.7983  | -122.276\n",
       "1062420 | 01/19/2011 02:06:00 AM | (37.79833, -122.27574300000001)           | 37.7983  | -122.276\n",
       "1319726 | 01/19/2011 02:05:00 AM | (37.798475000000003, -122.27571500000001) | 37.7985  | -122.276\n",
       "1214196 | 01/19/2011 02:05:00 AM | (37.798499999999997, -122.27571)          | 37.7985  | -122.276\n",
       "75227   | 01/19/2011 02:05:00 AM | (37.798596000000003, -122.27569)          | 37.7986  | -122.276\n",
       "... (2742091 rows omitted)"
      ]
     },
     "execution_count": 16,
     "metadata": {},
     "output_type": "execute_result"
    }
   ],
   "source": [
    "lprs = lprs.with_columns(\n",
    "    'Latitude',  lprs.apply(get_latitude, 'Location'),\n",
    "    'Longitude', lprs.apply(get_longitude, 'Location')\n",
    ")\n",
    "lprs"
   ]
  },
  {
   "cell_type": "markdown",
   "metadata": {},
   "source": [
    "And at last, we can draw a map with a marker everywhere that her car has been seen."
   ]
  },
  {
   "cell_type": "code",
   "execution_count": 17,
   "metadata": {
    "scrolled": true
   },
   "outputs": [
    {
     "name": "stderr",
     "output_type": "stream",
     "text": [
      "/opt/tljh/user/lib/python3.6/site-packages/datascience/maps.py:368: FutureWarning: simple_marker is deprecated. Use add_children(Marker) instead\n",
      "  f(**self._folium_kwargs)\n"
     ]
    },
    {
     "data": {
      "text/html": [
       "<div style=\"width:100%;\"><div style=\"position:relative;width:100%;height:0;padding-bottom:60%;\"><iframe src=\"data:text/html;base64,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\" style=\"position:absolute;width:100%;height:100%;left:0;top:0;\"></iframe></div></div>"
      ],
      "text/plain": [
       "<datascience.maps.Map at 0x7f96a04d85f8>"
      ]
     },
     "execution_count": 17,
     "metadata": {},
     "output_type": "execute_result"
    }
   ],
   "source": [
    "jean_quan = lprs.where('Plate', '6FCH845').select('Latitude', 'Longitude', 'Timestamp')\n",
    "Marker.map_table(jean_quan)"
   ]
  },
  {
   "cell_type": "markdown",
   "metadata": {},
   "source": [
    "OK, so it's been seen near the Oakland police department.  This should make you suspect we might be getting a bit of a biased sample.  Why might the Oakland PD be the most common place where her car is seen?  Can you come up with a plausible explanation for this?"
   ]
  },
  {
   "cell_type": "markdown",
   "metadata": {},
   "source": [
    "## Poking around"
   ]
  },
  {
   "cell_type": "markdown",
   "metadata": {},
   "source": [
    "Let's try another.  And let's see if we can make the map a little more fancy.  It'd be nice to distinguish between license plate reads that are seen during the daytime (on a weekday), vs the evening (on a weekday), vs on a weekend.  So we'll color-code the markers.  To do this, we'll write some Python code to analyze the Timestamp and choose an appropriate color."
   ]
  },
  {
   "cell_type": "code",
   "execution_count": 18,
   "metadata": {},
   "outputs": [],
   "source": [
    "import datetime\n",
    "\n",
    "def get_color(ts):\n",
    "    t = datetime.datetime.strptime(ts, '%m/%d/%Y %I:%M:%S %p')\n",
    "    if t.weekday() >= 6:\n",
    "        return 'green' # Weekend\n",
    "    elif t.hour >= 6 and t.hour <= 17:\n",
    "        return 'blue' # Weekday daytime\n",
    "    else:\n",
    "        return 'red' # Weekday evening\n",
    "    \n",
    "lprs.append_column('Color', lprs.apply(get_color, 'Timestamp'))"
   ]
  },
  {
   "cell_type": "markdown",
   "metadata": {},
   "source": [
    "Now we can check out another license plate, this time with our spiffy color-coding.  This one happens to be the car that the city issues to the Fire Chief."
   ]
  },
  {
   "cell_type": "code",
   "execution_count": 19,
   "metadata": {
    "scrolled": true
   },
   "outputs": [
    {
     "data": {
      "text/html": [
       "<div style=\"width:100%;\"><div style=\"position:relative;width:100%;height:0;padding-bottom:60%;\"><iframe src=\"data:text/html;base64,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\" style=\"position:absolute;width:100%;height:100%;left:0;top:0;\"></iframe></div></div>"
      ],
      "text/plain": [
       "<datascience.maps.Map at 0x7f96931e8860>"
      ]
     },
     "execution_count": 19,
     "metadata": {},
     "output_type": "execute_result"
    }
   ],
   "source": [
    "t = lprs.where('Plate', '1328354').select('Latitude', 'Longitude', 'Timestamp', 'Color')\n",
    "Marker.map_table(t)"
   ]
  },
  {
   "cell_type": "markdown",
   "metadata": {},
   "source": [
    "Hmm.  We can see a blue cluster in downtown Oakland, where the Fire Chief's car was seen on weekdays during business hours.  I bet we've found her office.  In fact, if you happen to know downtown Oakland, those are mostly clustered right near City Hall.  Also, her car was seen twice in northern Oakland on weekday evenings.  One can only speculate what that indicates.  Maybe dinner with a friend?  Or running errands?  Off to the scene of a fire?  Who knows.  And then the car has been seen once more, late at night on a weekend, in a residential area in the hills.  Her home address, maybe?"
   ]
  },
  {
   "cell_type": "markdown",
   "metadata": {},
   "source": [
    "Let's look at another. This time, we'll make a function to display the map."
   ]
  },
  {
   "cell_type": "code",
   "execution_count": null,
   "metadata": {},
   "outputs": [],
   "source": [
    "def map_plate(plate):\n",
    "    sightings = lprs.where('Plate', plate)\n",
    "    t = sightings.select('Latitude', 'Longitude', 'Timestamp', 'Color')\n",
    "    return Marker.map_table(t)\n",
    "    \n",
    "map_plate('5AJG153')"
   ]
  },
  {
   "cell_type": "markdown",
   "metadata": {},
   "source": [
    "What can we tell from this?  Looks to me like this person lives on International Blvd and 9th, roughly.  On weekdays they've seen in a variety of locations in west Oakland.  It's fun to imagine what this might indicate -- delivery person? taxi driver? someone running errands all over the place in west Oakland?\n",
    "\n",
    "We can look at another:"
   ]
  },
  {
   "cell_type": "code",
   "execution_count": null,
   "metadata": {},
   "outputs": [],
   "source": [
    "map_plate('6UZA652')"
   ]
  },
  {
   "cell_type": "markdown",
   "metadata": {},
   "source": [
    "What can we learn from this map?  First, it's pretty easy to guess where this person lives: 16th and International, or pretty near there.  And then we can see them spending some nights and a weekend near Laney College.  Did they have an apartment there briefly?  A relationship with someone who lived there?"
   ]
  },
  {
   "cell_type": "markdown",
   "metadata": {},
   "source": [
    "Is anyone else getting a little bit creeped out about this?  I think I've had enough of looking at individual people's data."
   ]
  },
  {
   "cell_type": "markdown",
   "metadata": {},
   "source": [
    "## Inference"
   ]
  },
  {
   "cell_type": "markdown",
   "metadata": {},
   "source": [
    "As we can see, this kind of data can potentially reveal a fair bit about people.  Someone with access to the data can draw inferences.  Take a moment to think about what someone might be able to infer from this kind of data.\n",
    " \n",
    "As we've seen here, it's not too hard to make a pretty good guess at roughly where some lives, from this kind of information: their car is probably parked near their home most nights.  Also, it will often be possible to guess where someone works: if they commute into work by car, then on weekdays during business hours, their car is probably parked near their office, so we'll see a clear cluster that indicates where they work.\n",
    "\n",
    "But it doesn't stop there.  If we have enough data, it might also be possible to get a sense of what they like to do during their downtime (do they spend time at the park?).  And in some cases the data might reveal that someone is in a relationship and spending nights at someone else's house.  That's arguably pretty sensitive stuff.\n",
    "\n",
    "This gets at one of the challenges with privacy.  Data that's collected for one purpose (fighting crime, or something like that) can potentially reveal a lot more.  It can allow the owner of the data to draw inferences -- sometimes about things that people would prefer to keep private.  And that means that, in a world of \"big data\", if we're not careful, privacy can be collateral damage."
   ]
  },
  {
   "cell_type": "markdown",
   "metadata": {},
   "source": [
    "## Mitigation"
   ]
  },
  {
   "cell_type": "markdown",
   "metadata": {},
   "source": [
    "If we want to protect people's privacy, what can be done about this?  That's a lengthy subject.  But at risk of over-simplifying, there are a few simple strategies that data owners can take:\n",
    "\n",
    "1. Minimize the data they have.  Collect only what they need, and delete it after it's not needed.\n",
    "\n",
    "2. Control who has access to the sensitive data.  Perhaps only a handful of trusted insiders need access; if so, then one can lock down the data so only they have access to it.  One can also log all access, to deter misuse.\n",
    "\n",
    "3. Anonymize the data, so it can't be linked back to the individual who it is about.  Unfortunately, this is often harder than it sounds.\n",
    "\n",
    "4. Engage with stakeholders.  Provide transparency, to try to avoid people being taken by surprise.  Give individuals a way to see what data has been collected about them.  Give people a way to opt out and have their data be deleted, if they wish.  Engage in a discussion about values, and tell people what steps you are taking to protect them from unwanted consequences.\n",
    "\n",
    "This only scratches the surface of the subject.  The main goal in this lecture was to make you aware of privacy concerns, so that if you are ever a steward of a large data set, you can think about how to protect people's data and use it responsibly."
   ]
  },
  {
   "cell_type": "code",
   "execution_count": null,
   "metadata": {},
   "outputs": [],
   "source": []
  }
 ],
 "metadata": {
  "kernelspec": {
   "display_name": "Python 3",
   "language": "python",
   "name": "python3"
  },
  "language_info": {
   "codemirror_mode": {
    "name": "ipython",
    "version": 3
   },
   "file_extension": ".py",
   "mimetype": "text/x-python",
   "name": "python",
   "nbconvert_exporter": "python",
   "pygments_lexer": "ipython3",
   "version": "3.6.5"
  }
 },
 "nbformat": 4,
 "nbformat_minor": 1
}
