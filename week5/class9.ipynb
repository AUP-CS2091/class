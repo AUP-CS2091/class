{
 "cells": [
  {
   "cell_type": "code",
   "execution_count": null,
   "metadata": {},
   "outputs": [],
   "source": [
    "from datascience import *\n",
    "import numpy as np\n",
    "%matplotlib inline"
   ]
  },
  {
   "cell_type": "code",
   "execution_count": null,
   "metadata": {},
   "outputs": [],
   "source": [
    "x = 1\n",
    "x < 3"
   ]
  },
  {
   "cell_type": "code",
   "execution_count": null,
   "metadata": {},
   "outputs": [],
   "source": [
    "y = 4\n",
    "y < 3"
   ]
  },
  {
   "cell_type": "code",
   "execution_count": null,
   "metadata": {},
   "outputs": [],
   "source": [
    "x == 3"
   ]
  },
  {
   "cell_type": "code",
   "execution_count": null,
   "metadata": {},
   "outputs": [],
   "source": [
    "x = 3"
   ]
  },
  {
   "cell_type": "code",
   "execution_count": null,
   "metadata": {},
   "outputs": [],
   "source": [
    "pets = make_array('dog', 'cat', 'rabbit', 'snake')"
   ]
  },
  {
   "cell_type": "code",
   "execution_count": null,
   "metadata": {},
   "outputs": [],
   "source": [
    "pets_table = Table().with_column('Pets', pets)"
   ]
  },
  {
   "cell_type": "code",
   "execution_count": null,
   "metadata": {},
   "outputs": [],
   "source": [
    "pets_table.where(make_array(False,True,False,True))"
   ]
  },
  {
   "cell_type": "code",
   "execution_count": null,
   "metadata": {},
   "outputs": [],
   "source": [
    "sum(make_array(False,True,False,True))"
   ]
  },
  {
   "cell_type": "code",
   "execution_count": null,
   "metadata": {},
   "outputs": [],
   "source": [
    "pets > 'cat'"
   ]
  },
  {
   "cell_type": "code",
   "execution_count": null,
   "metadata": {},
   "outputs": [],
   "source": [
    "student_years = np.arange(1,10)"
   ]
  },
  {
   "cell_type": "code",
   "execution_count": null,
   "metadata": {},
   "outputs": [],
   "source": [
    "student_years_table = Table().with_column('Year', student_years)"
   ]
  },
  {
   "cell_type": "code",
   "execution_count": null,
   "metadata": {},
   "outputs": [],
   "source": [
    "def is_senior(year):\n",
    "    if (year > 3):\n",
    "        return True\n",
    "    else:\n",
    "        return False"
   ]
  },
  {
   "cell_type": "code",
   "execution_count": null,
   "metadata": {},
   "outputs": [],
   "source": [
    "is_senior(6)"
   ]
  },
  {
   "cell_type": "code",
   "execution_count": null,
   "metadata": {},
   "outputs": [],
   "source": [
    "def count(year):\n",
    "    if (year > 3):\n",
    "        print(year)\n",
    "    else:\n",
    "        print(\"more\")\n",
    "        print('of it')"
   ]
  },
  {
   "cell_type": "code",
   "execution_count": null,
   "metadata": {},
   "outputs": [],
   "source": [
    "def count(year):\n",
    "    if (year > 3):\n",
    "        print(year)\n",
    "    else:\n",
    "        print(\"more\")\n",
    "    print('of it')"
   ]
  },
  {
   "cell_type": "code",
   "execution_count": null,
   "metadata": {},
   "outputs": [],
   "source": [
    "def count(year):\n",
    "    if (year > 3):\n",
    "        print(year)\n",
    "    else:\n",
    "        print(\"more\")\n",
    "print('of it')"
   ]
  },
  {
   "cell_type": "code",
   "execution_count": null,
   "metadata": {},
   "outputs": [],
   "source": [
    "count(2)"
   ]
  },
  {
   "cell_type": "code",
   "execution_count": null,
   "metadata": {},
   "outputs": [],
   "source": [
    "count(4)"
   ]
  },
  {
   "cell_type": "code",
   "execution_count": null,
   "metadata": {},
   "outputs": [],
   "source": [
    "student_years_table"
   ]
  },
  {
   "cell_type": "code",
   "execution_count": null,
   "metadata": {},
   "outputs": [],
   "source": [
    "years_selected = student_years_table.apply(is_senior, 'Year')\n",
    "years_selected"
   ]
  },
  {
   "cell_type": "code",
   "execution_count": null,
   "metadata": {},
   "outputs": [],
   "source": [
    "student_years_table.where(years_selected)"
   ]
  },
  {
   "cell_type": "code",
   "execution_count": null,
   "metadata": {},
   "outputs": [],
   "source": [
    "student_years_table.where('Year', is_senior)"
   ]
  },
  {
   "cell_type": "code",
   "execution_count": null,
   "metadata": {},
   "outputs": [],
   "source": [
    "some_list = make_array('value 1', 'value 2')\n",
    "def other_one(value, two_values):\n",
    "    if (value == two_values.item(0)):\n",
    "        return two_values.item(1)\n",
    "    elif (value == two_values.item(1)):\n",
    "        return two_values.item(0)\n",
    "    else:\n",
    "        return \"Error!\""
   ]
  },
  {
   "cell_type": "code",
   "execution_count": null,
   "metadata": {},
   "outputs": [],
   "source": [
    "other_one('value 1', some_list)"
   ]
  },
  {
   "cell_type": "code",
   "execution_count": null,
   "metadata": {},
   "outputs": [],
   "source": [
    "some_array = np.arange(4)\n",
    "some_array"
   ]
  },
  {
   "cell_type": "code",
   "execution_count": null,
   "metadata": {},
   "outputs": [],
   "source": [
    "np.append(some_array, 4)"
   ]
  },
  {
   "cell_type": "code",
   "execution_count": null,
   "metadata": {},
   "outputs": [],
   "source": [
    "another_array = np.arange(4,8)\n",
    "another_array"
   ]
  },
  {
   "cell_type": "code",
   "execution_count": null,
   "metadata": {},
   "outputs": [],
   "source": [
    "another_array = np.append(some_array, another_array)\n",
    "another_array"
   ]
  },
  {
   "cell_type": "code",
   "execution_count": null,
   "metadata": {},
   "outputs": [],
   "source": [
    "np.random.choice(some_list)"
   ]
  },
  {
   "cell_type": "code",
   "execution_count": null,
   "metadata": {},
   "outputs": [],
   "source": [
    "people_ids = np.arange(1000)\n",
    "people_ids"
   ]
  },
  {
   "cell_type": "code",
   "execution_count": null,
   "metadata": {},
   "outputs": [],
   "source": [
    "group_list = make_array('Control', 'Treatment')\n",
    "group_list"
   ]
  },
  {
   "cell_type": "code",
   "execution_count": null,
   "metadata": {},
   "outputs": [],
   "source": [
    "assigned_groups = np.random.choice(group_list,1000)\n",
    "assigned_groups "
   ]
  },
  {
   "cell_type": "code",
   "execution_count": null,
   "metadata": {},
   "outputs": [],
   "source": [
    "peple_experiment_table = Table().with_column('Ids', people_ids)\n",
    "peple_experiment_table"
   ]
  },
  {
   "cell_type": "code",
   "execution_count": null,
   "metadata": {},
   "outputs": [],
   "source": [
    "peple_experiment_table.with_column('Gtoup', assigned_groups)"
   ]
  },
  {
   "cell_type": "code",
   "execution_count": 76,
   "metadata": {},
   "outputs": [
    {
     "data": {
      "text/plain": [
       "array(['heads', 'tails'], dtype='<U5')"
      ]
     },
     "execution_count": 76,
     "metadata": {},
     "output_type": "execute_result"
    }
   ],
   "source": [
    "coin = make_array('heads', 'tails')\n",
    "coin"
   ]
  },
  {
   "cell_type": "code",
   "execution_count": 91,
   "metadata": {},
   "outputs": [
    {
     "data": {
      "text/plain": [
       "array([0, 2, 4, 6, 8])"
      ]
     },
     "execution_count": 91,
     "metadata": {},
     "output_type": "execute_result"
    }
   ],
   "source": [
    "array2 = np.arange(5)\n",
    "array2 * 2"
   ]
  },
  {
   "cell_type": "code",
   "execution_count": 96,
   "metadata": {},
   "outputs": [
    {
     "data": {
      "text/plain": [
       "44"
      ]
     },
     "execution_count": 96,
     "metadata": {},
     "output_type": "execute_result"
    }
   ],
   "source": [
    "sum(np.random.choice(coin,100) == 'heads')"
   ]
  },
  {
   "cell_type": "code",
   "execution_count": 97,
   "metadata": {},
   "outputs": [],
   "source": [
    "flipping_num = 1000\n",
    "total_head_count = make_array()\n",
    "for i in np.arange(flipping_num):\n",
    "    head_count = sum(np.random.choice(coin,100) == 'heads')\n",
    "    total_head_count = np.append(total_head_count, head_count)"
   ]
  },
  {
   "cell_type": "code",
   "execution_count": 98,
   "metadata": {},
   "outputs": [
    {
     "data": {
      "text/plain": [
       "array([47., 58., 54., 53., 45., 52., 49., 57., 55., 48., 56., 47., 56.,\n",
       "       47., 53., 54., 51., 49., 49., 45., 52., 48., 56., 48., 45., 49.,\n",
       "       55., 45., 47., 46., 53., 51., 52., 52., 48., 48., 52., 49., 47.,\n",
       "       58., 41., 49., 53., 54., 47., 57., 51., 47., 59., 53., 56., 55.,\n",
       "       43., 59., 45., 52., 48., 50., 54., 53., 44., 44., 44., 44., 41.,\n",
       "       51., 45., 63., 41., 52., 48., 54., 51., 48., 51., 52., 52., 46.,\n",
       "       52., 54., 55., 49., 48., 47., 45., 44., 44., 47., 47., 45., 46.,\n",
       "       51., 50., 61., 47., 47., 52., 53., 53., 40., 53., 51., 56., 51.,\n",
       "       50., 49., 45., 52., 60., 50., 43., 51., 53., 50., 52., 59., 49.,\n",
       "       62., 53., 52., 47., 52., 58., 48., 58., 55., 44., 53., 49., 43.,\n",
       "       57., 46., 49., 56., 49., 59., 56., 47., 55., 43., 52., 43., 41.,\n",
       "       50., 44., 57., 55., 45., 54., 46., 56., 44., 44., 46., 55., 48.,\n",
       "       48., 46., 48., 51., 43., 54., 42., 49., 44., 54., 48., 48., 51.,\n",
       "       52., 55., 49., 55., 53., 44., 48., 53., 48., 57., 49., 42., 50.,\n",
       "       59., 49., 43., 45., 48., 55., 49., 50., 57., 42., 49., 52., 56.,\n",
       "       48., 50., 37., 52., 49., 41., 42., 46., 42., 55., 48., 46., 51.,\n",
       "       54., 51., 52., 41., 54., 56., 53., 57., 55., 55., 55., 51., 58.,\n",
       "       54., 44., 51., 47., 47., 59., 53., 46., 54., 56., 44., 49., 42.,\n",
       "       44., 49., 51., 49., 48., 57., 49., 48., 39., 45., 57., 42., 47.,\n",
       "       51., 49., 45., 40., 47., 48., 54., 61., 55., 44., 54., 47., 57.,\n",
       "       41., 50., 48., 47., 58., 53., 41., 45., 49., 56., 45., 48., 40.,\n",
       "       47., 45., 52., 59., 53., 49., 63., 54., 51., 56., 53., 45., 40.,\n",
       "       51., 58., 53., 53., 44., 55., 47., 56., 54., 50., 48., 58., 60.,\n",
       "       59., 51., 53., 49., 50., 49., 36., 49., 37., 44., 55., 61., 48.,\n",
       "       40., 53., 49., 45., 54., 51., 51., 50., 56., 53., 58., 57., 58.,\n",
       "       50., 52., 53., 46., 52., 49., 47., 51., 53., 44., 49., 51., 53.,\n",
       "       48., 49., 55., 54., 42., 50., 49., 48., 59., 46., 46., 40., 49.,\n",
       "       52., 53., 39., 58., 51., 49., 52., 45., 56., 52., 59., 47., 50.,\n",
       "       54., 52., 47., 45., 54., 53., 53., 57., 50., 51., 57., 55., 53.,\n",
       "       47., 52., 51., 51., 47., 46., 53., 50., 47., 47., 54., 55., 44.,\n",
       "       56., 50., 52., 51., 50., 59., 54., 53., 50., 49., 58., 40., 37.,\n",
       "       41., 56., 51., 55., 53., 51., 45., 55., 48., 44., 42., 55., 52.,\n",
       "       41., 45., 49., 46., 56., 58., 47., 45., 38., 62., 44., 48., 51.,\n",
       "       49., 52., 51., 59., 41., 56., 55., 56., 48., 53., 54., 48., 54.,\n",
       "       52., 41., 51., 62., 63., 42., 50., 53., 45., 51., 51., 48., 46.,\n",
       "       53., 58., 45., 51., 43., 45., 47., 56., 42., 50., 46., 51., 58.,\n",
       "       45., 41., 51., 42., 55., 56., 55., 47., 59., 42., 46., 55., 63.,\n",
       "       50., 48., 54., 49., 48., 48., 45., 46., 56., 50., 53., 53., 58.,\n",
       "       41., 49., 56., 49., 64., 42., 46., 44., 45., 57., 58., 57., 55.,\n",
       "       57., 49., 45., 46., 48., 54., 48., 52., 51., 56., 56., 45., 60.,\n",
       "       49., 46., 55., 55., 39., 44., 52., 45., 55., 53., 59., 53., 55.,\n",
       "       46., 54., 54., 56., 48., 42., 50., 44., 46., 50., 48., 43., 52.,\n",
       "       47., 54., 37., 52., 47., 60., 44., 47., 53., 47., 56., 47., 50.,\n",
       "       44., 40., 54., 45., 48., 47., 50., 53., 51., 45., 54., 51., 50.,\n",
       "       53., 49., 49., 56., 55., 60., 58., 44., 45., 49., 50., 62., 53.,\n",
       "       49., 52., 62., 46., 49., 46., 49., 44., 43., 48., 46., 46., 45.,\n",
       "       43., 53., 50., 60., 45., 47., 52., 55., 54., 54., 47., 53., 50.,\n",
       "       52., 53., 49., 41., 51., 50., 56., 61., 46., 49., 53., 55., 51.,\n",
       "       44., 46., 38., 55., 52., 52., 52., 48., 43., 51., 43., 57., 54.,\n",
       "       49., 50., 47., 52., 49., 43., 47., 45., 45., 53., 43., 47., 52.,\n",
       "       54., 56., 40., 52., 56., 54., 50., 44., 43., 51., 59., 45., 58.,\n",
       "       50., 49., 38., 47., 41., 45., 52., 54., 45., 49., 52., 48., 54.,\n",
       "       46., 50., 43., 46., 44., 43., 46., 40., 55., 42., 61., 48., 50.,\n",
       "       53., 45., 47., 47., 44., 52., 50., 59., 49., 49., 47., 48., 49.,\n",
       "       46., 46., 44., 44., 49., 49., 62., 44., 57., 51., 43., 61., 46.,\n",
       "       57., 60., 53., 48., 56., 55., 42., 52., 56., 51., 49., 56., 52.,\n",
       "       61., 47., 53., 53., 46., 50., 47., 54., 54., 47., 48., 53., 51.,\n",
       "       51., 48., 51., 49., 55., 51., 54., 53., 53., 45., 49., 60., 45.,\n",
       "       49., 51., 54., 52., 55., 48., 48., 53., 51., 60., 54., 62., 51.,\n",
       "       51., 47., 47., 52., 54., 56., 50., 47., 47., 48., 55., 45., 54.,\n",
       "       48., 58., 39., 58., 49., 45., 48., 44., 54., 46., 52., 51., 49.,\n",
       "       43., 50., 46., 49., 47., 58., 53., 49., 50., 49., 52., 38., 54.,\n",
       "       52., 49., 46., 49., 51., 40., 50., 50., 51., 55., 50., 59., 51.,\n",
       "       53., 55., 49., 54., 49., 50., 54., 56., 53., 48., 48., 42., 50.,\n",
       "       49., 43., 54., 41., 55., 47., 55., 38., 57., 47., 47., 48., 56.,\n",
       "       49., 48., 39., 51., 47., 56., 55., 47., 59., 44., 49., 48., 49.,\n",
       "       54., 44., 50., 43., 59., 56., 50., 52., 49., 59., 43., 60., 52.,\n",
       "       49., 54., 49., 49., 59., 49., 50., 52., 56., 45., 47., 50., 56.,\n",
       "       51., 47., 49., 61., 52., 58., 42., 48., 53., 45., 60., 48., 46.,\n",
       "       45., 48., 46., 48., 47., 57., 59., 52., 53., 49., 61., 58., 51.,\n",
       "       55., 50., 48., 55., 53., 51., 47., 50., 57., 62., 47., 51., 47.,\n",
       "       50., 56., 43., 43., 48., 48., 51., 51., 50., 43., 48., 49., 62.,\n",
       "       46., 60., 54., 54., 54., 43., 48., 55., 56., 50., 44., 63., 50.,\n",
       "       52., 52., 48., 54., 50., 51., 50., 54., 47., 46., 53., 43., 41.,\n",
       "       44., 47., 45., 45., 49., 51., 47., 44., 55., 47., 52., 59., 44.,\n",
       "       50., 47., 51., 53., 51., 48., 53., 53., 49., 54., 51., 53., 48.,\n",
       "       49., 52., 51., 57., 55., 54., 47., 46., 53., 51., 37., 52.])"
      ]
     },
     "execution_count": 98,
     "metadata": {},
     "output_type": "execute_result"
    }
   ],
   "source": [
    "total_head_count"
   ]
  },
  {
   "cell_type": "code",
   "execution_count": 102,
   "metadata": {},
   "outputs": [
    {
     "data": {
      "image/png": "[encoded data removed]",
      "text/plain": [
       "<Figure size 432x288 with 1 Axes>"
      ]
     },
     "metadata": {
      "needs_background": "light"
     },
     "output_type": "display_data"
    }
   ],
   "source": [
    "head_count_table = Table().with_column('Number of heads out of 100 flips', total_head_count)\n",
    "head_count_table.hist()"
   ]
  },
  {
   "cell_type": "code",
   "execution_count": 128,
   "metadata": {},
   "outputs": [
    {
     "data": {
      "text/plain": [
       "array(['Car', 'Goat 1', 'Goat 2'], dtype='<U6')"
      ]
     },
     "execution_count": 128,
     "metadata": {},
     "output_type": "execute_result"
    }
   ],
   "source": [
    "doors = make_array('Car', 'Goat 1', 'Goat 2')\n",
    "goats = make_array('Goat 1', 'Goat 2')\n",
    "doors"
   ]
  },
  {
   "cell_type": "code",
   "execution_count": 151,
   "metadata": {},
   "outputs": [],
   "source": [
    "def is_goat(door):\n",
    "    return (door == 'Goat 1' or door == 'Goat 2')"
   ]
  },
  {
   "cell_type": "code",
   "execution_count": 169,
   "metadata": {},
   "outputs": [
    {
     "data": {
      "text/plain": [
       "array(['Goat 2', 'Goat 1', 'Car'], dtype='<U6')"
      ]
     },
     "execution_count": 169,
     "metadata": {},
     "output_type": "execute_result"
    }
   ],
   "source": [
    "def monty():\n",
    "    original = np.random.choice(doors)\n",
    "\n",
    "    if (is_goat(original)):\n",
    "        revealed = other_one(original, goats)\n",
    "        alternative = 'Car'\n",
    "    else:\n",
    "        revealed = np.random.choice(goats)\n",
    "        alternative = other_one(revealed, goats)\n",
    "\n",
    "    return make_array(original, revealed, alternative)\n",
    "\n",
    "monty()"
   ]
  },
  {
   "cell_type": "code",
   "execution_count": 170,
   "metadata": {},
   "outputs": [
    {
     "data": {
      "text/html": [
       "<table border=\"1\" class=\"dataframe\">\n",
       "    <thead>\n",
       "        <tr>\n",
       "            <th>Original door</th> <th>Revealed door</th> <th>Alternative door</th>\n",
       "        </tr>\n",
       "    </thead>\n",
       "    <tbody>\n",
       "        <tr>\n",
       "            <td>Car          </td> <td>Goat 2       </td> <td>Goat 1          </td>\n",
       "        </tr>\n",
       "        <tr>\n",
       "            <td>Goat 1       </td> <td>Goat 2       </td> <td>Car             </td>\n",
       "        </tr>\n",
       "        <tr>\n",
       "            <td>Car          </td> <td>Goat 1       </td> <td>Goat 2          </td>\n",
       "        </tr>\n",
       "        <tr>\n",
       "            <td>Goat 1       </td> <td>Goat 2       </td> <td>Car             </td>\n",
       "        </tr>\n",
       "        <tr>\n",
       "            <td>Goat 1       </td> <td>Goat 2       </td> <td>Car             </td>\n",
       "        </tr>\n",
       "        <tr>\n",
       "            <td>Car          </td> <td>Goat 1       </td> <td>Goat 2          </td>\n",
       "        </tr>\n",
       "        <tr>\n",
       "            <td>Goat 1       </td> <td>Goat 2       </td> <td>Car             </td>\n",
       "        </tr>\n",
       "        <tr>\n",
       "            <td>Goat 1       </td> <td>Goat 2       </td> <td>Car             </td>\n",
       "        </tr>\n",
       "        <tr>\n",
       "            <td>Car          </td> <td>Goat 2       </td> <td>Goat 1          </td>\n",
       "        </tr>\n",
       "        <tr>\n",
       "            <td>Goat 2       </td> <td>Goat 1       </td> <td>Car             </td>\n",
       "        </tr>\n",
       "    </tbody>\n",
       "</table>\n",
       "<p>... (990 rows omitted)</p>"
      ],
      "text/plain": [
       "Original door | Revealed door | Alternative door\n",
       "Car           | Goat 2        | Goat 1\n",
       "Goat 1        | Goat 2        | Car\n",
       "Car           | Goat 1        | Goat 2\n",
       "Goat 1        | Goat 2        | Car\n",
       "Goat 1        | Goat 2        | Car\n",
       "Car           | Goat 1        | Goat 2\n",
       "Goat 1        | Goat 2        | Car\n",
       "Goat 1        | Goat 2        | Car\n",
       "Car           | Goat 2        | Goat 1\n",
       "Goat 2        | Goat 1        | Car\n",
       "... (990 rows omitted)"
      ]
     },
     "execution_count": 170,
     "metadata": {},
     "output_type": "execute_result"
    }
   ],
   "source": [
    "repetition = 1000\n",
    "original_choice = make_array()\n",
    "revealed_choice = make_array()\n",
    "alternative_choice = make_array()\n",
    "for i in np.arange(repetition):\n",
    "    result = monty()\n",
    "    original_choice = np.append(original_choice, result.item(0))\n",
    "    revealed_choice = np.append(revealed_choice, result.item(1))\n",
    "    alternative_choice = np.append(alternative_choice, result.item(2))\n",
    "    \n",
    "expr_table = Table().with_column('Original door', original_choice).with_column('Revealed door', revealed_choice).with_column('Alternative door', alternative_choice)\n",
    "expr_table"
   ]
  },
  {
   "cell_type": "code",
   "execution_count": 175,
   "metadata": {},
   "outputs": [
    {
     "data": {
      "image/png": "[encoded data removed]",
      "text/plain": [
       "<Figure size 432x288 with 1 Axes>"
      ]
     },
     "metadata": {
      "needs_background": "light"
     },
     "output_type": "display_data"
    }
   ],
   "source": [
    "expr_table.group('Alternative door').barh(0)"
   ]
  },
  {
   "cell_type": "code",
   "execution_count": null,
   "metadata": {},
   "outputs": [],
   "source": []
  }
 ],
 "metadata": {
  "kernelspec": {
   "display_name": "Python 3",
   "language": "python",
   "name": "python3"
  },
  "language_info": {
   "codemirror_mode": {
    "name": "ipython",
    "version": 3
   },
   "file_extension": ".py",
   "mimetype": "text/x-python",
   "name": "python",
   "nbconvert_exporter": "python",
   "pygments_lexer": "ipython3",
   "version": "3.6.5"
  }
 },
 "nbformat": 4,
 "nbformat_minor": 2
}
