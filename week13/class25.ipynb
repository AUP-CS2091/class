{
 "cells": [
  {
   "cell_type": "code",
   "execution_count": 2,
   "metadata": {},
   "outputs": [],
   "source": [
    "from datascience import *\n",
    "import numpy as np\n",
    "import matplotlib\n",
    "from mpl_toolkits.mplot3d import Axes3D\n",
    "%matplotlib inline\n",
    "import matplotlib.pyplot as plots\n",
    "plots.style.use('fivethirtyeight')"
   ]
  },
  {
   "cell_type": "code",
   "execution_count": 3,
   "metadata": {},
   "outputs": [],
   "source": [
    "cancer = Table.read_table('https://raw.githubusercontent.com/AUP-CS2091/class/master/week12/breast-cancer.csv')\n",
    "credit = Table.read_table('https://raw.githubusercontent.com/AUP-CS2091/class/master/week13/credit.csv')"
   ]
  },
  {
   "cell_type": "code",
   "execution_count": 4,
   "metadata": {},
   "outputs": [
    {
     "data": {
      "text/plain": [
       "0"
      ]
     },
     "execution_count": 4,
     "metadata": {},
     "output_type": "execute_result"
    }
   ],
   "source": [
    "cancer_no_id = cancer.drop(0)\n",
    "example = cancer_no_id.drop(\"Class\").row(0)\n",
    "training = cancer_no_id.exclude(0)\n",
    "def distance(arr1, arr2):\n",
    "    return np.sqrt(sum((arr1-arr2)**2))\n",
    "def row_distance(row1,row2):\n",
    "    return distance(np.array(row1),np.array(row2))\n",
    "def compute_distances(training, example):\n",
    "    distances = make_array()\n",
    "    for row in training.drop(\"Class\").rows:\n",
    "        distances = np.append(distances, row_distance(row, example))\n",
    "    return distances\n",
    "def k_nearest_neighbours(training, example, k):\n",
    "    distances = compute_distances(training, example)\n",
    "    distance_table = training.with_column(\"Distance\", distances)\n",
    "    sorted_distance_table = distance_table.sort(\"Distance\")\n",
    "    return sorted_distance_table.take(np.arange(k))\n",
    "def knn_classifier(training2, example2, k):\n",
    "    neighbours = k_nearest_neighbours(training2, example2, k)\n",
    "    return neighbours.group(\"Class\").sort(\"count\", descending=True).row(0).item(0)\n",
    "knn_classifier(training, example,11)"
   ]
  },
  {
   "cell_type": "code",
   "execution_count": 6,
   "metadata": {},
   "outputs": [
    {
     "data": {
      "text/plain": [
       "1"
      ]
     },
     "execution_count": 6,
     "metadata": {},
     "output_type": "execute_result"
    }
   ],
   "source": [
    "example2 = cancer_no_id.drop(\"Class\").row(550)\n",
    "knn_classifier(training, example2,11)"
   ]
  },
  {
   "cell_type": "code",
   "execution_count": 7,
   "metadata": {},
   "outputs": [],
   "source": [
    "cancer_training = cancer_no_id.take(np.arange(350))\n",
    "cancer_test = cancer_no_id.take(np.arange(350, 683))"
   ]
  },
  {
   "cell_type": "code",
   "execution_count": 8,
   "metadata": {},
   "outputs": [
    {
     "data": {
      "text/plain": [
       "0.990990990990991"
      ]
     },
     "execution_count": 8,
     "metadata": {},
     "output_type": "execute_result"
    }
   ],
   "source": [
    "def estimate_accuracy(training, test, k):\n",
    "    classifications_on_test = make_array()\n",
    "    for row in test.drop(\"Class\").rows:\n",
    "        classification = knn_classifier(training, row, k)\n",
    "        classifications_on_test = np.append(classifications_on_test, classification)\n",
    "    return sum(1 - np.abs(classifications_on_test - test.column(\"Class\"))) / test.num_rows\n",
    "estimate_accuracy(cancer_training, cancer_test, 11)"
   ]
  },
  {
   "cell_type": "code",
   "execution_count": 23,
   "metadata": {},
   "outputs": [
    {
     "data": {
      "text/plain": [
       "0.9819819819819819"
      ]
     },
     "execution_count": 23,
     "metadata": {},
     "output_type": "execute_result"
    }
   ],
   "source": [
    "estimate_accuracy(cancer_training, cancer_test, 1)"
   ]
  },
  {
   "cell_type": "code",
   "execution_count": 10,
   "metadata": {},
   "outputs": [
    {
     "data": {
      "text/plain": [
       "1.0"
      ]
     },
     "execution_count": 10,
     "metadata": {},
     "output_type": "execute_result"
    }
   ],
   "source": [
    "estimate_accuracy(cancer_training, cancer_training, 1)"
   ]
  },
  {
   "cell_type": "code",
   "execution_count": 11,
   "metadata": {},
   "outputs": [
    {
     "data": {
      "text/plain": [
       "0.9628571428571429"
      ]
     },
     "execution_count": 11,
     "metadata": {},
     "output_type": "execute_result"
    }
   ],
   "source": [
    "estimate_accuracy(cancer_training, cancer_training, 11)"
   ]
  },
  {
   "cell_type": "code",
   "execution_count": 20,
   "metadata": {},
   "outputs": [],
   "source": [
    "credit = credit.drop(\"LIMIT_BAL\")"
   ]
  },
  {
   "cell_type": "code",
   "execution_count": 34,
   "metadata": {},
   "outputs": [],
   "source": [
    "credit_shuffed = credit.sample(with_replacement=False)\n",
    "credit_training = credit_shuffed.take(np.arange(500))\n",
    "credit_test = credit_shuffed.take(np.arange(500,1000))"
   ]
  },
  {
   "cell_type": "code",
   "execution_count": 35,
   "metadata": {},
   "outputs": [
    {
     "data": {
      "text/plain": [
       "0.524"
      ]
     },
     "execution_count": 35,
     "metadata": {},
     "output_type": "execute_result"
    }
   ],
   "source": [
    "estimate_accuracy(credit_training, credit_test, 1)"
   ]
  },
  {
   "cell_type": "code",
   "execution_count": 37,
   "metadata": {},
   "outputs": [
    {
     "data": {
      "text/plain": [
       "0.594"
      ]
     },
     "execution_count": 37,
     "metadata": {},
     "output_type": "execute_result"
    }
   ],
   "source": [
    "estimate_accuracy(credit_training, credit_training, 3)"
   ]
  },
  {
   "cell_type": "code",
   "execution_count": 18,
   "metadata": {},
   "outputs": [
    {
     "data": {
      "text/plain": [
       "0"
      ]
     },
     "execution_count": 18,
     "metadata": {},
     "output_type": "execute_result"
    }
   ],
   "source": [
    "row = credit.drop(\"Class\").row(600)\n",
    "knn_classifier(credit_training, row, 1)"
   ]
  },
  {
   "cell_type": "code",
   "execution_count": null,
   "metadata": {},
   "outputs": [],
   "source": [
    "row"
   ]
  },
  {
   "cell_type": "code",
   "execution_count": 19,
   "metadata": {},
   "outputs": [
    {
     "data": {
      "text/plain": [
       "Row(LIMIT_BAL=100000, PAY_0=3, PAY_2=2, PAY_3=2, PAY_4=2, PAY_5=0, PAY_6=0, Class=1)"
      ]
     },
     "execution_count": 19,
     "metadata": {},
     "output_type": "execute_result"
    }
   ],
   "source": [
    "credit.row(600)"
   ]
  },
  {
   "cell_type": "code",
   "execution_count": 24,
   "metadata": {},
   "outputs": [
    {
     "data": {
      "text/html": [
       "<table border=\"1\" class=\"dataframe\">\n",
       "    <thead>\n",
       "        <tr>\n",
       "            <th>PAY_0</th> <th>PAY_2</th> <th>PAY_3</th> <th>PAY_4</th> <th>PAY_5</th> <th>PAY_6</th> <th>Class</th>\n",
       "        </tr>\n",
       "    </thead>\n",
       "    <tbody>\n",
       "        <tr>\n",
       "            <td>1    </td> <td>2    </td> <td>2    </td> <td>2    </td> <td>2    </td> <td>2    </td> <td>0    </td>\n",
       "        </tr>\n",
       "        <tr>\n",
       "            <td>0    </td> <td>0    </td> <td>0    </td> <td>0    </td> <td>0    </td> <td>0    </td> <td>0    </td>\n",
       "        </tr>\n",
       "        <tr>\n",
       "            <td>5    </td> <td>4    </td> <td>3    </td> <td>2    </td> <td>2    </td> <td>2    </td> <td>0    </td>\n",
       "        </tr>\n",
       "        <tr>\n",
       "            <td>0    </td> <td>0    </td> <td>0    </td> <td>0    </td> <td>0    </td> <td>2    </td> <td>0    </td>\n",
       "        </tr>\n",
       "        <tr>\n",
       "            <td>0    </td> <td>0    </td> <td>0    </td> <td>0    </td> <td>0    </td> <td>0    </td> <td>0    </td>\n",
       "        </tr>\n",
       "    </tbody>\n",
       "</table>\n",
       "<p>... (995 rows omitted)</p>"
      ],
      "text/plain": [
       "<IPython.core.display.HTML object>"
      ]
     },
     "metadata": {},
     "output_type": "display_data"
    }
   ],
   "source": [
    "credit.show(5)"
   ]
  },
  {
   "cell_type": "code",
   "execution_count": 29,
   "metadata": {},
   "outputs": [
    {
     "data": {
      "text/html": [
       "<table border=\"1\" class=\"dataframe\">\n",
       "    <thead>\n",
       "        <tr>\n",
       "            <th>Class</th> <th>count</th>\n",
       "        </tr>\n",
       "    </thead>\n",
       "    <tbody>\n",
       "        <tr>\n",
       "            <td>0    </td> <td>500  </td>\n",
       "        </tr>\n",
       "    </tbody>\n",
       "</table>"
      ],
      "text/plain": [
       "Class | count\n",
       "0     | 500"
      ]
     },
     "execution_count": 29,
     "metadata": {},
     "output_type": "execute_result"
    }
   ],
   "source": [
    "credit_training.group(\"Class\")"
   ]
  },
  {
   "cell_type": "code",
   "execution_count": 30,
   "metadata": {},
   "outputs": [
    {
     "data": {
      "text/html": [
       "<table border=\"1\" class=\"dataframe\">\n",
       "    <thead>\n",
       "        <tr>\n",
       "            <th>Class</th> <th>count</th>\n",
       "        </tr>\n",
       "    </thead>\n",
       "    <tbody>\n",
       "        <tr>\n",
       "            <td>1    </td> <td>500  </td>\n",
       "        </tr>\n",
       "    </tbody>\n",
       "</table>"
      ],
      "text/plain": [
       "Class | count\n",
       "1     | 500"
      ]
     },
     "execution_count": 30,
     "metadata": {},
     "output_type": "execute_result"
    }
   ],
   "source": [
    "credit_test.group(\"Class\")"
   ]
  },
  {
   "cell_type": "code",
   "execution_count": null,
   "metadata": {},
   "outputs": [],
   "source": []
  },
  {
   "cell_type": "code",
   "execution_count": null,
   "metadata": {},
   "outputs": [],
   "source": []
  },
  {
   "cell_type": "code",
   "execution_count": null,
   "metadata": {},
   "outputs": [],
   "source": []
  },
  {
   "cell_type": "code",
   "execution_count": 38,
   "metadata": {},
   "outputs": [],
   "source": [
    "# Bayes"
   ]
  },
  {
   "cell_type": "code",
   "execution_count": 38,
   "metadata": {},
   "outputs": [
    {
     "data": {
      "text/html": [
       "<table border=\"1\" class=\"dataframe\">\n",
       "    <thead>\n",
       "        <tr>\n",
       "            <th>Year</th> <th>Major</th>\n",
       "        </tr>\n",
       "    </thead>\n",
       "    <tbody>\n",
       "        <tr>\n",
       "            <td>Second</td> <td>Declared</td>\n",
       "        </tr>\n",
       "        <tr>\n",
       "            <td>Second</td> <td>Declared</td>\n",
       "        </tr>\n",
       "        <tr>\n",
       "            <td>Second</td> <td>Declared</td>\n",
       "        </tr>\n",
       "    </tbody>\n",
       "</table>\n",
       "<p>... (97 rows omitted)</p>"
      ],
      "text/plain": [
       "<IPython.core.display.HTML object>"
      ]
     },
     "metadata": {},
     "output_type": "display_data"
    }
   ],
   "source": [
    "n = 100\n",
    "second = round(n * 0.6)\n",
    "third = round(n * 0.4)\n",
    "\n",
    "year = np.array(['Second'] * second + ['Third'] * third)\n",
    "major = np.array(['Declared'] * (round(second * 0.5)) + ['Undeclared'] * (round(second * 0.5)) + \\\n",
    "                 ['Declared'] * (round(third * 0.8))  + ['Undeclared'] * (round(third * 0.2)))\n",
    "                 \n",
    "students = Table().with_columns(\n",
    "    'Year', year,\n",
    "    'Major', major\n",
    ")\n",
    "students.show(3)"
   ]
  },
  {
   "cell_type": "code",
   "execution_count": 41,
   "metadata": {},
   "outputs": [
    {
     "data": {
      "text/html": [
       "<table border=\"1\" class=\"dataframe\">\n",
       "    <thead>\n",
       "        <tr>\n",
       "            <th>Year</th> <th>Major</th> <th>count</th>\n",
       "        </tr>\n",
       "    </thead>\n",
       "    <tbody>\n",
       "        <tr>\n",
       "            <td>Second</td> <td>Declared  </td> <td>30   </td>\n",
       "        </tr>\n",
       "        <tr>\n",
       "            <td>Second</td> <td>Undeclared</td> <td>30   </td>\n",
       "        </tr>\n",
       "        <tr>\n",
       "            <td>Third </td> <td>Declared  </td> <td>32   </td>\n",
       "        </tr>\n",
       "        <tr>\n",
       "            <td>Third </td> <td>Undeclared</td> <td>8    </td>\n",
       "        </tr>\n",
       "    </tbody>\n",
       "</table>"
      ],
      "text/plain": [
       "Year   | Major      | count\n",
       "Second | Declared   | 30\n",
       "Second | Undeclared | 30\n",
       "Third  | Declared   | 32\n",
       "Third  | Undeclared | 8"
      ]
     },
     "execution_count": 41,
     "metadata": {},
     "output_type": "execute_result"
    }
   ],
   "source": [
    "students.group([\"Year\", \"Major\"])"
   ]
  },
  {
   "cell_type": "code",
   "execution_count": 42,
   "metadata": {},
   "outputs": [
    {
     "data": {
      "text/html": [
       "<table border=\"1\" class=\"dataframe\">\n",
       "    <thead>\n",
       "        <tr>\n",
       "            <th>Major</th> <th>Second</th> <th>Third</th>\n",
       "        </tr>\n",
       "    </thead>\n",
       "    <tbody>\n",
       "        <tr>\n",
       "            <td>Declared  </td> <td>30    </td> <td>32   </td>\n",
       "        </tr>\n",
       "        <tr>\n",
       "            <td>Undeclared</td> <td>30    </td> <td>8    </td>\n",
       "        </tr>\n",
       "    </tbody>\n",
       "</table>"
      ],
      "text/plain": [
       "Major      | Second | Third\n",
       "Declared   | 30     | 32\n",
       "Undeclared | 30     | 8"
      ]
     },
     "execution_count": 42,
     "metadata": {},
     "output_type": "execute_result"
    }
   ],
   "source": [
    "students.pivot(\"Year\",\"Major\")"
   ]
  },
  {
   "cell_type": "code",
   "execution_count": null,
   "metadata": {},
   "outputs": [],
   "source": []
  }
 ],
 "metadata": {
  "kernelspec": {
   "display_name": "Python 3",
   "language": "python",
   "name": "python3"
  },
  "language_info": {
   "codemirror_mode": {
    "name": "ipython",
    "version": 3
   },
   "file_extension": ".py",
   "mimetype": "text/x-python",
   "name": "python",
   "nbconvert_exporter": "python",
   "pygments_lexer": "ipython3",
   "version": "3.6.5"
  }
 },
 "nbformat": 4,
 "nbformat_minor": 2
}
