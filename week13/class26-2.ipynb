{
 "cells": [
  {
   "cell_type": "code",
   "execution_count": null,
   "metadata": {},
   "outputs": [],
   "source": [
    "from datascience import *\n",
    "import numpy as np\n",
    "import matplotlib\n",
    "%matplotlib inline\n",
    "import matplotlib.pyplot as plots\n",
    "plots.style.use('fivethirtyeight')"
   ]
  },
  {
   "cell_type": "code",
   "execution_count": null,
   "metadata": {},
   "outputs": [],
   "source": [
    "import pandas as pd\n",
    "from sklearn.neighbors import KNeighborsClassifier\n",
    "from sklearn.model_selection import train_test_split\n",
    "from sklearn.metrics import accuracy_score"
   ]
  },
  {
   "cell_type": "code",
   "execution_count": null,
   "metadata": {},
   "outputs": [],
   "source": [
    "cancer = pd.read_csv('https://raw.githubusercontent.com/AUP-CS2091/class/master/week12/breast-cancer.csv').drop(\"ID\",1)\n"
   ]
  },
  {
   "cell_type": "code",
   "execution_count": null,
   "metadata": {},
   "outputs": [],
   "source": [
    "cancer.describe()"
   ]
  },
  {
   "cell_type": "code",
   "execution_count": null,
   "metadata": {},
   "outputs": [],
   "source": [
    "train, test = train_test_split(cancer, test_size=0.4)\n",
    "train"
   ]
  },
  {
   "cell_type": "code",
   "execution_count": null,
   "metadata": {},
   "outputs": [],
   "source": [
    "model = KNeighborsClassifier(n_neighbors=3)\n",
    "model.fit(train.drop(\"Class\",1),train[\"Class\"])"
   ]
  },
  {
   "cell_type": "code",
   "execution_count": null,
   "metadata": {},
   "outputs": [],
   "source": [
    "predicted= model.predict(test.drop(\"Class\",1))\n",
    "predicted"
   ]
  },
  {
   "cell_type": "code",
   "execution_count": null,
   "metadata": {},
   "outputs": [],
   "source": [
    "accuracy_score(test[\"Class\"], predicted)"
   ]
  },
  {
   "cell_type": "code",
   "execution_count": null,
   "metadata": {},
   "outputs": [],
   "source": [
    "titanic = pd.read_csv('https://raw.githubusercontent.com/AUP-CS2091/class/master/week13/titanic-data.csv')\n",
    "titanic.describe()"
   ]
  },
  {
   "cell_type": "markdown",
   "metadata": {},
   "source": [
    "## Modeling chances for surviving the sinking of the Titanic\n",
    "\n",
    "Part of a data scientist's job is to use her or his intuition and insight to\n",
    "write algorithms and heuristics. A data scientist also creates mathematical models \n",
    "to make predictions based on some attributes from the data that they are examining.\n",
    "\n",
    "You need to take your knowledge and intuition about the Titanic\n",
    "and its passengers' attributes to predict whether or not the passengers survived\n",
    "or perished. You can read more about the Titanic and specifics about this dataset at:\n",
    "http://en.wikipedia.org/wiki/RMS_Titanic\n",
    "http://www.kaggle.com/c/titanic-gettingStarted\n",
    "\n",
    "Next, you are given a list of Titantic passengers\n",
    "and their associated information. More information about the data can be seen at the \n",
    "link below:\n",
    "http://www.kaggle.com/c/titanic-gettingStarted/data. \n",
    "\n",
    "Can you need to write a heuristic that will use\n",
    "the passengers' information to predict if that person survived the Titanic disaster?\n",
    "\n",
    "You prediction should be 79% accurate or higher.\n",
    "\n",
    "Can you get an accuracy of above 80%?\n",
    "\n",
    "Here's a simple heuristic to start off:\n",
    "   1) If the passenger is female, your heuristic should assume that the\n",
    "   passenger survived.\n",
    "   2) If the passenger is male, you heuristic should\n",
    "   assume that the passenger did not survive.\n",
    "\n",
    "You can access the gender of a passenger via passenger['Sex'].\n",
    "If the passenger is male, passenger['Sex'] will return a string \"male\".\n",
    "If the passenger is female, passenger['Sex'] will return a string \"female\".\n",
    "\n",
    "Write your prediction back into the \"predictions\" dictionary. The\n",
    "key of the dictionary should be the passenger's id (which can be accessed\n",
    "via passenger[\"PassengerId\"]) and the associated value should be 1 if the\n",
    "passenger survied or 0 otherwise.\n",
    "\n",
    "For example, if a passenger is predicted to have survived:\n",
    "passenger_id = passenger['PassengerId']\n",
    "predictions[passenger_id] = 1\n",
    "\n",
    "And if a passenger is predicted to have perished in the disaster:\n",
    "passenger_id = passenger['PassengerId']\n",
    "predictions[passenger_id] = 0\n",
    "\n",
    "\n",
    "## Data\n",
    "\n",
    "The available attributes are:\n",
    "\n",
    "    Pclass          Passenger Class\n",
    "                    (1 = 1st; 2 = 2nd; 3 = 3rd)\n",
    "    Name            Name\n",
    "    Sex             Sex\n",
    "    Age             Age\n",
    "    SibSp           Number of Siblings/Spouses Aboard\n",
    "    Parch           Number of Parents/Children Aboard\n",
    "    Ticket          Ticket Number\n",
    "    Fare            Passenger Fare\n",
    "    Cabin           Cabin\n",
    "    Embarked        Port of Embarkation\n",
    "                    (C = Cherbourg; Q = Queenstown; S = Southampton)\n",
    "\n",
    "SPECIAL NOTES:\n",
    "Pclass is a proxy for socioeconomic status (SES)\n",
    "1st ~ Upper; 2nd ~ Middle; 3rd ~ Lower\n",
    "\n",
    "Age is in years; fractional if age less than one\n",
    "If the age is estimated, it is in the form xx.5\n",
    "\n",
    "With respect to the family relation variables (i.e. SibSp and Parch)\n",
    "some relations were ignored. The following are the definitions used\n",
    "for SibSp and Parch.\n",
    "\n",
    "    Sibling:  brother, sister, stepbrother, or stepsister of passenger aboard Titanic\n",
    "    Spouse:   husband or wife of passenger aboard Titanic (mistresses and fiancees ignored)\n",
    "    Parent:   mother or father of passenger aboard Titanic\n",
    "    Child:    son, daughter, stepson, or stepdaughter of passenger aboard Titanic"
   ]
  },
  {
   "cell_type": "code",
   "execution_count": null,
   "metadata": {},
   "outputs": [],
   "source": [
    "import pandas as pd\n",
    "import sklearn.metrics as mts\n",
    "\n",
    "def predict(df):\n",
    "    predictions = {}\n",
    "    for passenger_index, passenger in df.iterrows():\n",
    "        passenger_id = passenger['PassengerId']\n",
    "        #your code here\n",
    "    return predictions\n",
    "\n",
    "predictions = predict(df)"
   ]
  },
  {
   "cell_type": "markdown",
   "metadata": {},
   "source": [
    "Once you have finished implementing the function `predict`, you can use the next code cell in order to check your accuracy."
   ]
  },
  {
   "cell_type": "code",
   "execution_count": null,
   "metadata": {},
   "outputs": [],
   "source": [
    "real_rate = df[['PassengerId','Survived']]\n",
    "real_rate = real_rate.set_index('PassengerId').T.to_dict(orient='list')\n",
    "real_rate = {x: real_rate[x][0] for x in real_rate} # list comprehension\n",
    "mts.accuracy_score(list(real_rate.values()), list(predictions.values()))"
   ]
  },
  {
   "cell_type": "markdown",
   "metadata": {},
   "source": [
    "## Decision tree classifiers"
   ]
  },
  {
   "cell_type": "code",
   "execution_count": null,
   "metadata": {},
   "outputs": [],
   "source": [
    "from sklearn import tree\n",
    "clf = tree.DecisionTreeClassifier(criterion='entropy',max_depth=8)\n",
    "X = train.drop(\"Class\",1)\n",
    "Y = train[['Class']]\n",
    "X_test = test.drop(\"Class\",1)\n",
    "clf = clf.fit(X, Y)\n",
    "predicted = clf.predict(X_test)\n",
    "accuracy_score(test[\"Class\"], predicted)"
   ]
  },
  {
   "cell_type": "code",
   "execution_count": null,
   "metadata": {},
   "outputs": [],
   "source": [
    "import graphviz \n",
    "dot_data = tree.export_graphviz(clf, out_file=None, \n",
    "                         feature_names=X.columns.values,  \n",
    "                         filled=True, rounded=True,  \n",
    "                         special_characters=True) \n",
    "graph = graphviz.Source(dot_data) \n",
    "graph"
   ]
  },
  {
   "cell_type": "code",
   "execution_count": null,
   "metadata": {},
   "outputs": [],
   "source": []
  }
 ],
 "metadata": {
  "kernelspec": {
   "display_name": "Python 3",
   "language": "python",
   "name": "python3"
  },
  "language_info": {
   "codemirror_mode": {
    "name": "ipython",
    "version": 3
   },
   "file_extension": ".py",
   "mimetype": "text/x-python",
   "name": "python",
   "nbconvert_exporter": "python",
   "pygments_lexer": "ipython3",
   "version": "3.6.5"
  }
 },
 "nbformat": 4,
 "nbformat_minor": 2
}
